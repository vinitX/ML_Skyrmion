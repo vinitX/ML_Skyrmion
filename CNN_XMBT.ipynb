{
 "cells": [
  {
   "cell_type": "code",
   "execution_count": 1,
   "metadata": {},
   "outputs": [
    {
     "name": "stderr",
     "output_type": "stream",
     "text": [
      "Using TensorFlow backend.\n"
     ]
    }
   ],
   "source": [
    "import numpy as np # linear algebra\n",
    "import matplotlib.pyplot as plt\n",
    "import time\n",
    "%matplotlib inline\n",
    "import tensorflow\n",
    "from sklearn.model_selection import train_test_split\n",
    "from sklearn.metrics import confusion_matrix\n",
    "from keras.utils.np_utils import to_categorical # convert to one-hot-encoding\n",
    "from keras.models import Sequential\n",
    "from keras.layers import Dense, Dropout, Flatten, Conv2D, MaxPool2D, BatchNormalization\n",
    "from keras.layers.advanced_activations import LeakyReLU, PReLU\n",
    "from keras.optimizers import Adam\n",
    "from keras.preprocessing.image import ImageDataGenerator\n",
    "from keras.callbacks import LearningRateScheduler\n",
    "import pandas"
   ]
  },
  {
   "cell_type": "code",
   "execution_count": 2,
   "metadata": {},
   "outputs": [],
   "source": [
    "import keras\n",
    "import tensorflow"
   ]
  },
  {
   "cell_type": "code",
   "execution_count": 3,
   "metadata": {},
   "outputs": [
    {
     "name": "stdout",
     "output_type": "stream",
     "text": [
      "292.29607105255127\n"
     ]
    }
   ],
   "source": [
    "t=time.time()\n",
    "train_data = np.array(list(np.loadtxt(\"train.csv\", delimiter=\",\"))).astype(\"float32\")\n",
    "train_labels = np.array(list(np.loadtxt(\"train_label.csv\", delimiter=\",\"))).astype(\"float32\")\n",
    "eval_data = np.array(list(np.loadtxt(\"eval.csv\", delimiter=\",\"))).astype(\"float32\")\n",
    "eval_labels = np.array(list(np.loadtxt(\"eval_label.csv\", delimiter=\",\"))).astype(\"float32\")\n",
    "\n",
    "#eval_data = pandas.read_csv(\"eval.csv\", delimiter=\",\",header=None,dtype='float32')\n",
    "#eval_labels = pandas.read_csv(\"eval_label.csv\", delimiter=\",\",header=None,dtype='float32')\n",
    "print(time.time()-t)"
   ]
  },
  {
   "cell_type": "code",
   "execution_count": 4,
   "metadata": {},
   "outputs": [
    {
     "name": "stdout",
     "output_type": "stream",
     "text": [
      "1.8290581703186035\n"
     ]
    }
   ],
   "source": [
    "t=time.time()\n",
    "test_data = np.array(list(np.loadtxt(\"H.csv\", delimiter=\",\"))).astype(\"float32\")\n",
    "test_labels = np.array(list(np.loadtxt(\"H_label.csv\", delimiter=\",\"))).astype(\"float32\")\n",
    "print(time.time()-t)"
   ]
  },
  {
   "cell_type": "code",
   "execution_count": 5,
   "metadata": {},
   "outputs": [
    {
     "name": "stdout",
     "output_type": "stream",
     "text": [
      "614.593\n",
      "[1.        0.9875887 0.95      1.       ] [0.996756   0.98738945 0.95       1.        ]\n",
      "(64000, 4) (64000, 24, 24, 3)\n"
     ]
    }
   ],
   "source": [
    "x_train = train_data.reshape(-1, 24,24,3)\n",
    "x_val = eval_data.reshape(-1, 24,24,3)\n",
    "x_test = test_data.reshape(-1, 24,24,3)\n",
    "\n",
    "y_train=np.abs(np.reshape(train_labels,(-1,4)))\n",
    "y_val=np.abs(np.reshape(eval_labels,(-1,4)))\n",
    "y_test=np.abs(np.reshape(test_labels,(-1,4)))\n",
    "\n",
    "y_max=max(np.max(y_train[:,0]),np.max(y_val[:,0]))  #maximum observed chirality\n",
    "y_train[:,0]=y_train[:,0]/y_max\n",
    "y_val[:,0]=y_val[:,0]/y_max\n",
    "y_test[:,0]=y_test[:,0]/y_max\n",
    "print(y_max)\n",
    "print(np.amax(y_train,axis=0),np.amax(y_val,axis=0))#,np.amax(y_test,axis=0))\n",
    "print(np.shape(y_train),np.shape(x_train))"
   ]
  },
  {
   "cell_type": "code",
   "execution_count": 6,
   "metadata": {},
   "outputs": [],
   "source": [
    "model = Sequential()\n",
    "\n",
    "model.add(Conv2D(filters = 16, kernel_size = (6, 6), activation='relu', input_shape = (24, 24, 3)))\n",
    "model.add(BatchNormalization())\n",
    "#model.add(Conv2D(filters = 16, kernel_size = (3, 3), activation='relu'))\n",
    "#model.add(BatchNormalization())\n",
    "#model.add(Conv2D(filters = 16, kernel_size = (3, 3), activation='relu'))\n",
    "#model.add(BatchNormalization())\n",
    "model.add(MaxPool2D(strides=(2,2)))\n",
    "model.add(Dropout(0.25))\n",
    "\n",
    "model.add(Conv2D(filters = 32, kernel_size = (3, 3), activation='relu'))\n",
    "model.add(BatchNormalization())\n",
    "#model.add(Conv2D(filters = 32, kernel_size = (3, 3), activation='relu'))\n",
    "#model.add(BatchNormalization())\n",
    "#model.add(Conv2D(filters = 32, kernel_size = (3, 3), activation='relu'))\n",
    "#model.add(BatchNormalization())\n",
    "model.add(MaxPool2D(strides=(2,2)))\n",
    "model.add(Dropout(0.25))\n",
    "\n",
    "model.add(Flatten())\n",
    "model.add(Dense(512, activation='linear'))\n",
    "model.add(LeakyReLU(alpha=.1))\n",
    "model.add(Dropout(0.25))\n",
    "\n",
    "model.add(Dense(1024, activation='linear'))\n",
    "model.add(LeakyReLU(alpha=.1))\n",
    "model.add(Dropout(0.5))\n",
    "\n",
    "model.add(Dense(4, activation='sigmoid'))"
   ]
  },
  {
   "cell_type": "code",
   "execution_count": 7,
   "metadata": {},
   "outputs": [],
   "source": [
    "model.compile(loss='mean_squared_error', optimizer = Adam(lr=1e-4))#, metrics=[\"accuracy\"]) #binary_crossentropy"
   ]
  },
  {
   "cell_type": "code",
   "execution_count": 9,
   "metadata": {},
   "outputs": [],
   "source": [
    "annealer = LearningRateScheduler(lambda x: 1e-3 * 0.9 ** x)"
   ]
  },
  {
   "cell_type": "code",
   "execution_count": 10,
   "metadata": {},
   "outputs": [
    {
     "name": "stdout",
     "output_type": "stream",
     "text": [
      "Train on 64000 samples, validate on 16000 samples\n",
      "Epoch 1/10\n",
      " - 114s - loss: 0.0179 - val_loss: 0.0070\n",
      "Epoch 2/10\n",
      " - 4s - loss: 0.0044 - val_loss: 0.0045\n",
      "Epoch 3/10\n",
      " - 4s - loss: 0.0037 - val_loss: 0.0030\n",
      "Epoch 4/10\n",
      " - 4s - loss: 0.0033 - val_loss: 0.0025\n",
      "Epoch 5/10\n",
      " - 4s - loss: 0.0031 - val_loss: 0.0022\n",
      "Epoch 6/10\n",
      " - 4s - loss: 0.0029 - val_loss: 0.0029\n",
      "Epoch 7/10\n",
      " - 4s - loss: 0.0028 - val_loss: 0.0019\n",
      "Epoch 8/10\n",
      " - 3s - loss: 0.0027 - val_loss: 0.0022\n",
      "Epoch 9/10\n",
      " - 3s - loss: 0.0026 - val_loss: 0.0021\n",
      "Epoch 10/10\n",
      " - 3s - loss: 0.0025 - val_loss: 0.0022\n"
     ]
    }
   ],
   "source": [
    "hist = model.fit(x=x_train, y=y_train, batch_size=512,\n",
    "                           epochs=10, #Increase this when not on Kaggle kernel\n",
    "                           verbose=2,  #1 for ETA, 0 for silent\n",
    "                           validation_data=(x_val, y_val), #For speed\n",
    "                           callbacks=[annealer])"
   ]
  },
  {
   "cell_type": "code",
   "execution_count": 11,
   "metadata": {},
   "outputs": [
    {
     "data": {
      "image/png": "[encoded data removed]",
      "text/plain": [
       "<Figure size 432x288 with 1 Axes>"
      ]
     },
     "metadata": {
      "needs_background": "light"
     },
     "output_type": "display_data"
    }
   ],
   "source": [
    "plt.plot(hist.history['loss'], color='b')\n",
    "plt.plot(hist.history['val_loss'], color='r')\n",
    "plt.show()"
   ]
  },
  {
   "cell_type": "code",
   "execution_count": null,
   "metadata": {},
   "outputs": [],
   "source": [
    "y_hat = model.predict(x_val)"
   ]
  },
  {
   "cell_type": "code",
   "execution_count": null,
   "metadata": {},
   "outputs": [],
   "source": [
    "h_val=[]\n",
    "h_hat=[]\n",
    "for i in range(400):\n",
    "    h_val.append(np.mean(y_val[i*40:(i+1)*40,0]))\n",
    "    h_hat.append(np.mean(y_hat[i*40:(i+1)*40,0]))\n",
    "plt.plot(h_val,'r')\n",
    "plt.plot(h_hat,'b')\n",
    "plt.show()\n",
    "print(np.shape(y_hat))"
   ]
  },
  {
   "cell_type": "code",
   "execution_count": null,
   "metadata": {},
   "outputs": [],
   "source": [
    "h_val=[]\n",
    "h_hat=[]\n",
    "for i in range(400):\n",
    "    h_val.append(np.mean(y_val[i*40:(i+1)*40,1]))\n",
    "    h_hat.append(np.mean(y_hat[i*40:(i+1)*40,1]))\n",
    "plt.plot(h_val,'r')\n",
    "plt.plot(h_hat,'b')\n",
    "plt.show()\n",
    "print(np.shape(y_hat))"
   ]
  },
  {
   "cell_type": "code",
   "execution_count": null,
   "metadata": {},
   "outputs": [],
   "source": [
    "plt.plot(y_hat[:,2],'b')\n",
    "plt.plot(y_val[:,2],'r')\n",
    "plt.show()\n",
    "print(np.shape(y_hat))"
   ]
  },
  {
   "cell_type": "code",
   "execution_count": null,
   "metadata": {},
   "outputs": [],
   "source": [
    "plt.plot(y_hat[:,3],'b')\n",
    "plt.plot(y_val[:,3],'r')\n",
    "plt.show()\n",
    "print(np.shape(y_hat))"
   ]
  },
  {
   "cell_type": "code",
   "execution_count": null,
   "metadata": {},
   "outputs": [],
   "source": [
    "y_hat = model.predict(x_test)"
   ]
  },
  {
   "cell_type": "code",
   "execution_count": null,
   "metadata": {},
   "outputs": [],
   "source": [
    "y_hat=np.array(list(np.loadtxt(\"y_hat.csv\", delimiter=\",\"))).astype(\"float32\")\n",
    "y_test=np.abs(np.reshape(test_labels,(-1,4)))\n",
    "\n",
    "y_test=np.reshape(y_test,(20,20,100,4))\n",
    "y_hat=np.reshape(y_hat,(20,20,100,4))\n",
    "\n",
    "h_test=np.zeros((20,20,4))\n",
    "h_hat=np.zeros((20,20,4))\n",
    "for T in range(20):\n",
    "    for B in range(20):\n",
    "        for k in range(4):\n",
    "            h_test[T,B,k]=np.mean(y_test[T,B,:,k])\n",
    "            h_hat[T,B,k]=np.mean(y_hat[T,B,:,k])\n",
    "\n",
    "plt.imshow(np.abs(h_test[:,:,0]-h_hat[:,:,0]))\n",
    "plt.show()\n",
    "plt.imshow(np.abs(h_test[:,:,1]-h_hat[:,:,1]))\n",
    "plt.show()\n",
    "plt.imshow(np.abs(h_test[:,:,2]-h_hat[:,:,2]))\n",
    "plt.show()\n",
    "plt.imshow(np.abs(h_test[:,:,3]-h_hat[:,:,3]))\n",
    "plt.show()\n",
    "\n",
    "np.savetxt('y_test0.5_0.5.csv',np.reshape(h_test,(400,4)),delimiter=',')\n",
    "np.savetxt('y_hat0.5_0.5.csv',np.reshape(h_hat,(400,4)),delimiter=',')\n",
    "\n",
    "h_test=np.reshape(h_test,(20,20,4))\n",
    "h_hat=np.reshape(h_hat,(20,20,4))\n",
    "for i in range(3):\n",
    "    for j in range(4,20,5):\n",
    "        plt.plot(h_test[:,j,i])\n",
    "        plt.plot(h_hat[:,j,i])\n",
    "        plt.show()\n",
    "for j in range(4,20,5):\n",
    "    plt.plot(h_test[j,:,3])\n",
    "    plt.plot(h_hat[j,:,3])\n",
    "    plt.show()     \n",
    "h_test=np.reshape(h_test,(400,4))\n",
    "h_hat=np.reshape(h_hat,(400,4))\n",
    "print(np.mean(np.abs(h_test-h_hat),axis=0))\n",
    "        "
   ]
  },
  {
   "cell_type": "code",
   "execution_count": null,
   "metadata": {},
   "outputs": [],
   "source": [
    "y_hat = model.predict(x_test)"
   ]
  },
  {
   "cell_type": "code",
   "execution_count": null,
   "metadata": {},
   "outputs": [],
   "source": [
    "y_test=np.abs(np.reshape(test_labels,(-1,4)))\n",
    "y_test[:,0]=y_test[:,0]/(-np.max(y_test[:,0]))\n",
    "y_test=np.reshape(test_labels,(20,20,100,4))\n",
    "y_hat=np.reshape(y_hat,(20,20,100,4))\n",
    "\n",
    "for T in range(0,20,5):\n",
    "    h_test=[]\n",
    "    h_hat=[]\n",
    "    for B in range(20):\n",
    "        h_test.append(T*0.1+np.mean(y_test[B,T,:,0]))\n",
    "        h_hat.append(T*0.1+np.mean(y_hat[B,T,:,0]))\n",
    "    plt.plot(h_test,'r')\n",
    "    plt.plot(h_hat,'b')\n",
    "plt.show()\n",
    "\n",
    "for T in range(0,20,5):\n",
    "    h_test=[]\n",
    "    h_hat=[]\n",
    "    for B in range(20):\n",
    "        h_test.append(T*0.1+np.mean(y_test[B,T,:,1]))\n",
    "        h_hat.append(T*0.1+np.mean(y_hat[B,T,:,1]))\n",
    "    plt.plot(h_test,'r')\n",
    "    plt.plot(h_hat,'b')\n",
    "plt.show()\n",
    "\n",
    "for T in range(0,20,5):\n",
    "    h_test=[]\n",
    "    h_hat=[]\n",
    "    for B in range(20):\n",
    "        h_test.append(T*0.1+np.mean(y_test[B,T,:,2]))\n",
    "        h_hat.append(T*0.1+np.mean(y_hat[B,T,:,2]))\n",
    "    plt.plot(h_test,'r')\n",
    "    plt.plot(h_hat,'b')\n",
    "plt.show()\n",
    "\n",
    "for T in range(0,20,5):\n",
    "    h_test=[]\n",
    "    h_hat=[]\n",
    "    for B in range(20):\n",
    "        h_test.append(T*0.1+np.mean(y_test[B,T,:,3]))\n",
    "        h_hat.append(T*0.1+np.mean(y_hat[B,T,:,3]))\n",
    "    plt.plot(h_test,'r')\n",
    "    plt.plot(h_hat,'b')\n",
    "plt.show()\n",
    "\n",
    "print(np.shape(y_hat))"
   ]
  },
  {
   "cell_type": "code",
   "execution_count": null,
   "metadata": {},
   "outputs": [],
   "source": []
  },
  {
   "cell_type": "code",
   "execution_count": null,
   "metadata": {},
   "outputs": [],
   "source": []
  }
 ],
 "metadata": {
  "kernelspec": {
   "display_name": "Python (tensorflow)",
   "language": "python",
   "name": "tensorflow"
  },
  "language_info": {
   "codemirror_mode": {
    "name": "ipython",
    "version": 3
   },
   "file_extension": ".py",
   "mimetype": "text/x-python",
   "name": "python",
   "nbconvert_exporter": "python",
   "pygments_lexer": "ipython3",
   "version": "3.6.6"
  }
 },
 "nbformat": 4,
 "nbformat_minor": 2
}
