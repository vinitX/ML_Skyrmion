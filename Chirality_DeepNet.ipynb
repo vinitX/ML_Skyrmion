{
 "cells": [
  {
   "cell_type": "code",
   "execution_count": 16,
   "metadata": {
    "collapsed": false
   },
   "outputs": [],
   "source": [
    "import numpy as np # linear algebra\n",
    "import matplotlib.pyplot as plt\n",
    "%matplotlib inline\n",
    "from sklearn.model_selection import train_test_split\n",
    "from sklearn.metrics import confusion_matrix\n",
    "from keras.utils.np_utils import to_categorical # convert to one-hot-encoding\n",
    "from keras.models import Sequential\n",
    "from keras.layers import Dense, Dropout, Flatten, Conv2D, MaxPool2D, BatchNormalization\n",
    "from keras.layers.advanced_activations import LeakyReLU, PReLU\n",
    "from keras.optimizers import Adam\n",
    "from keras.preprocessing.image import ImageDataGenerator\n",
    "from keras.callbacks import LearningRateScheduler"
   ]
  },
  {
   "cell_type": "code",
   "execution_count": 17,
   "metadata": {
    "collapsed": false
   },
   "outputs": [],
   "source": [
    "train_data = np.array(list(np.loadtxt(\"train3.csv\", delimiter=\",\"))).astype(\"float32\")\n",
    "train_labels = np.array(list(np.loadtxt(\"train_label1.csv\", delimiter=\",\"))).astype(\"float32\")\n",
    "eval_data = np.array(list(np.loadtxt(\"eval3.csv\", delimiter=\",\"))).astype(\"float32\")\n",
    "eval_labels = np.array(list(np.loadtxt(\"eval_label1.csv\", delimiter=\",\"))).astype(\"float32\")"
   ]
  },
  {
   "cell_type": "code",
   "execution_count": 18,
   "metadata": {
    "collapsed": false
   },
   "outputs": [
    {
     "name": "stdout",
     "output_type": "stream",
     "text": [
      "[1.] [0.9997983]\n"
     ]
    }
   ],
   "source": [
    "x_train = train_data.reshape(-1, 24*24*3)\n",
    "x_val = eval_data.reshape(-1, 24*24*3)\n",
    "\n",
    "y_train=np.abs(np.reshape(train_labels,(-1,1)))\n",
    "y_val=np.abs(np.reshape(eval_labels,(-1,1)))\n",
    "y_max=max(np.max(y_train),np.max(y_val))  #maximum observed chirality\n",
    "\n",
    "y_train=y_train/y_max  #notice the change\n",
    "y_val=y_val/y_max\n",
    "\n",
    "print(max(y_train),max(y_val))"
   ]
  },
  {
   "cell_type": "code",
   "execution_count": 19,
   "metadata": {
    "collapsed": false
   },
   "outputs": [],
   "source": [
    "model = Sequential()\n",
    "'''\n",
    "model.add(Conv2D(filters = 16, kernel_size = (3, 3), activation='relu',\n",
    "                 input_shape = (24, 24, 2)))\n",
    "\n",
    "#model.add(BatchNormalization())\n",
    "model.add(Conv2D(filters = 16, kernel_size = (3, 3), activation='relu'))\n",
    "model.add(BatchNormalization())\n",
    "#model.add(Conv2D(filters = 16, kernel_size = (3, 3), activation='relu'))\n",
    "#model.add(BatchNormalization())\n",
    "model.add(MaxPool2D(strides=(2,2)))\n",
    "model.add(Dropout(0.25))\n",
    "\n",
    "model.add(Conv2D(filters = 32, kernel_size = (3, 3), activation='relu'))\n",
    "model.add(BatchNormalization())\n",
    "model.add(Conv2D(filters = 32, kernel_size = (3, 3), activation='relu'))\n",
    "model.add(BatchNormalization())\n",
    "#model.add(Conv2D(filters = 32, kernel_size = (3, 3), activation='relu'))\n",
    "#model.add(BatchNormalization())\n",
    "model.add(MaxPool2D(strides=(2,2)))\n",
    "model.add(Dropout(0.25))\n",
    "\n",
    "model.add(Flatten(input_shape=(24,24,2)))'''\n",
    "model.add(Dense(512, activation='linear', input_dim=1728))\n",
    "model.add(LeakyReLU(alpha=.001))\n",
    "model.add(Dropout(0.25))\n",
    "\n",
    "model.add(Dense(1024, activation='linear'))\n",
    "model.add(LeakyReLU(alpha=.001))\n",
    "model.add(Dropout(0.5))\n",
    "\n",
    "model.add(Dense(1, activation='sigmoid'))"
   ]
  },
  {
   "cell_type": "code",
   "execution_count": 20,
   "metadata": {
    "collapsed": true
   },
   "outputs": [],
   "source": [
    "model.compile(loss='mean_squared_error', optimizer = Adam(lr=1e-4))#, metrics=[\"accuracy\"]) #binary_crossentropy"
   ]
  },
  {
   "cell_type": "code",
   "execution_count": 21,
   "metadata": {
    "collapsed": true
   },
   "outputs": [],
   "source": [
    "annealer = LearningRateScheduler(lambda x: 1e-3 * 0.9 ** x)"
   ]
  },
  {
   "cell_type": "code",
   "execution_count": 22,
   "metadata": {
    "collapsed": false,
    "scrolled": true
   },
   "outputs": [
    {
     "name": "stdout",
     "output_type": "stream",
     "text": [
      "Train on 64000 samples, validate on 16000 samples\n",
      "Epoch 1/20\n",
      " - 4s - loss: 0.0064 - val_loss: 0.0013\n",
      "Epoch 2/20\n",
      " - 2s - loss: 0.0015 - val_loss: 0.0017\n",
      "Epoch 3/20\n",
      " - 2s - loss: 0.0010 - val_loss: 0.0017\n",
      "Epoch 4/20\n",
      " - 2s - loss: 8.3103e-04 - val_loss: 0.0020\n",
      "Epoch 5/20\n",
      " - 2s - loss: 7.3316e-04 - val_loss: 0.0020\n",
      "Epoch 6/20\n",
      " - 2s - loss: 6.5752e-04 - val_loss: 0.0020\n",
      "Epoch 7/20\n",
      " - 2s - loss: 6.0870e-04 - val_loss: 0.0017\n",
      "Epoch 8/20\n",
      " - 2s - loss: 5.6717e-04 - val_loss: 0.0019\n",
      "Epoch 9/20\n",
      " - 2s - loss: 5.3124e-04 - val_loss: 0.0020\n",
      "Epoch 10/20\n",
      " - 2s - loss: 5.1017e-04 - val_loss: 0.0021\n",
      "Epoch 11/20\n",
      " - 2s - loss: 4.9016e-04 - val_loss: 0.0021\n",
      "Epoch 12/20\n",
      " - 2s - loss: 4.7670e-04 - val_loss: 0.0019\n",
      "Epoch 13/20\n",
      " - 2s - loss: 4.5786e-04 - val_loss: 0.0022\n",
      "Epoch 14/20\n",
      " - 2s - loss: 4.4187e-04 - val_loss: 0.0021\n",
      "Epoch 15/20\n",
      " - 2s - loss: 4.3467e-04 - val_loss: 0.0020\n",
      "Epoch 16/20\n",
      " - 2s - loss: 4.2707e-04 - val_loss: 0.0019\n",
      "Epoch 17/20\n",
      " - 2s - loss: 4.1314e-04 - val_loss: 0.0021\n",
      "Epoch 18/20\n",
      " - 2s - loss: 4.0911e-04 - val_loss: 0.0020\n",
      "Epoch 19/20\n",
      " - 2s - loss: 4.0026e-04 - val_loss: 0.0019\n",
      "Epoch 20/20\n",
      " - 2s - loss: 3.9682e-04 - val_loss: 0.0020\n"
     ]
    }
   ],
   "source": [
    "hist = model.fit(x=x_train, y=y_train, batch_size=512,\n",
    "                           epochs=20, #Increase this when not on Kaggle kernel\n",
    "                           verbose=2,  #1 for ETA, 0 for silent\n",
    "                           validation_data=(x_val, y_val), #For speed\n",
    "                           callbacks=[annealer])"
   ]
  },
  {
   "cell_type": "code",
   "execution_count": 23,
   "metadata": {
    "collapsed": false
   },
   "outputs": [
    {
     "data": {
      "image/png": "[encoded data removed]",
      "text/plain": [
       "<Figure size 600x400 with 1 Axes>"
      ]
     },
     "metadata": {},
     "output_type": "display_data"
    }
   ],
   "source": [
    "plt.plot(hist.history['loss'], color='b')\n",
    "plt.plot(hist.history['val_loss'], color='r')\n",
    "plt.show()"
   ]
  },
  {
   "cell_type": "code",
   "execution_count": 24,
   "metadata": {
    "collapsed": false
   },
   "outputs": [
    {
     "data": {
      "image/png": "[encoded data removed]",
      "text/plain": [
       "<Figure size 600x400 with 1 Axes>"
      ]
     },
     "metadata": {},
     "output_type": "display_data"
    },
    {
     "name": "stdout",
     "output_type": "stream",
     "text": [
      "(16000, 1)\n"
     ]
    }
   ],
   "source": [
    "y_hat = model.predict(x_val)\n",
    "h_val=[]\n",
    "h_hat=[]\n",
    "for i in range(400):\n",
    "    h_val.append(np.mean(y_val[i*40:(i+1)*40]))\n",
    "    h_hat.append(np.mean(y_hat[i*40:(i+1)*40]))\n",
    "plt.plot(h_val,'r')\n",
    "plt.plot(h_hat,'b')\n",
    "plt.show()\n",
    "print(np.shape(y_hat))"
   ]
  },
  {
   "cell_type": "code",
   "execution_count": 25,
   "metadata": {
    "collapsed": false
   },
   "outputs": [],
   "source": [
    "test_data = np.array(list(np.loadtxt(\"test.csv\", delimiter=\",\"))).astype(\"float32\")"
   ]
  },
  {
   "cell_type": "code",
   "execution_count": 26,
   "metadata": {
    "collapsed": true
   },
   "outputs": [],
   "source": [
    "test_labels = np.array(list(np.loadtxt(\"test_label1.csv\", delimiter=\",\"))).astype(\"float32\")"
   ]
  },
  {
   "cell_type": "code",
   "execution_count": 27,
   "metadata": {
    "collapsed": false
   },
   "outputs": [
    {
     "data": {
      "image/png": "[encoded data removed]",
      "text/plain": [
       "<Figure size 600x400 with 1 Axes>"
      ]
     },
     "metadata": {},
     "output_type": "display_data"
    },
    {
     "name": "stdout",
     "output_type": "stream",
     "text": [
      "(40000, 1)\n"
     ]
    }
   ],
   "source": [
    "x_test = test_data.reshape(-1, 24*24*3)\n",
    "y_test=np.abs(np.reshape(test_labels,(-1,1)))\n",
    "\n",
    "y_test=y_test/y_max\n",
    "\n",
    "y_hat = model.predict(x_test)\n",
    "h_test=[]\n",
    "h_hat=[]\n",
    "for i in range(400):\n",
    "    h_test.append(np.mean(y_test[i*100:(i+1)*100]))\n",
    "    h_hat.append(np.mean(y_hat[i*100:(i+1)*100]))\n",
    "plt.plot(h_test,'r')\n",
    "plt.plot(h_hat,'b')\n",
    "plt.show()\n",
    "print(np.shape(y_hat))"
   ]
  },
  {
   "cell_type": "code",
   "execution_count": 28,
   "metadata": {
    "collapsed": false
   },
   "outputs": [
    {
     "name": "stdout",
     "output_type": "stream",
     "text": [
      "Final loss: 0.0020\n"
     ]
    }
   ],
   "source": [
    "final_loss = model.evaluate(x_val, y_val, verbose=0)\n",
    "print(\"Final loss: {0:.4f}\".format(final_loss))"
   ]
  },
  {
   "cell_type": "code",
   "execution_count": null,
   "metadata": {
    "collapsed": false
   },
   "outputs": [],
   "source": [
    "final_loss = model.evaluate(x_test[:,:], y_test[:40000], verbose=0)\n",
    "print(\"Final loss: {0:.4f}\".format(final_loss))"
   ]
  },
  {
   "cell_type": "code",
   "execution_count": 30,
   "metadata": {
    "collapsed": false
   },
   "outputs": [
    {
     "name": "stdout",
     "output_type": "stream",
     "text": [
      "(40000, 1728) (80000, 1)\n"
     ]
    }
   ],
   "source": [
    "print(np.shape(x_test),np.shape(y_test))"
   ]
  },
  {
   "cell_type": "code",
   "execution_count": null,
   "metadata": {
    "collapsed": true
   },
   "outputs": [],
   "source": []
  }
 ],
 "metadata": {
  "anaconda-cloud": {},
  "kernelspec": {
   "display_name": "Python [Anaconda3]",
   "language": "python",
   "name": "Python [Anaconda3]"
  },
  "language_info": {
   "codemirror_mode": {
    "name": "ipython",
    "version": 3
   },
   "file_extension": ".py",
   "mimetype": "text/x-python",
   "name": "python",
   "nbconvert_exporter": "python",
   "pygments_lexer": "ipython3",
   "version": "3.5.2"
  }
 },
 "nbformat": 4,
 "nbformat_minor": 0
}
