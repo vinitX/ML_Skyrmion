{
 "cells": [
  {
   "cell_type": "code",
   "execution_count": 2,
   "metadata": {
    "collapsed": true
   },
   "outputs": [],
   "source": [
    "import numpy as np\n",
    "import cupy as cp\n",
    "import time"
   ]
  },
  {
   "cell_type": "code",
   "execution_count": 76,
   "metadata": {},
   "outputs": [
    {
     "name": "stdout",
     "output_type": "stream",
     "text": [
      "0.0003211498260498047\n"
     ]
    }
   ],
   "source": [
    "x=[]\n",
    "for n in range(2,101):\n",
    "    t=time.time()\n",
    "    a=cp.random.rand(n,n)\n",
    "    b=cp.random.rand(n,n)\n",
    "    c=cp.matmul(a,b)\n",
    "    x.append(time.time()-t)\n",
    "print(time.time()-t)"
   ]
  },
  {
   "cell_type": "code",
   "execution_count": 77,
   "metadata": {},
   "outputs": [
    {
     "name": "stdout",
     "output_type": "stream",
     "text": [
      "0.0005497932434082031\n"
     ]
    }
   ],
   "source": [
    "y=[]\n",
    "for n in range(2,101):\n",
    "    t=time.time()\n",
    "    a=np.random.rand(n,n)\n",
    "    b=np.random.rand(n,n)\n",
    "    c=np.matmul(a,b)\n",
    "    y.append(time.time()-t)\n",
    "print(time.time()-t)"
   ]
  },
  {
   "cell_type": "code",
   "execution_count": 79,
   "metadata": {},
   "outputs": [
    {
     "data": {
      "image/png": "[encoded data removed]",
      "text/plain": [
       "<matplotlib.figure.Figure at 0x7fe457d83518>"
      ]
     },
     "metadata": {},
     "output_type": "display_data"
    }
   ],
   "source": [
    "import matplotlib.pyplot as plt\n",
    "plt.plot(np.divide(x,y)[50:])\n",
    "plt.show()"
   ]
  },
  {
   "cell_type": "code",
   "execution_count": 72,
   "metadata": {},
   "outputs": [
    {
     "ename": "CompileException",
     "evalue": "/tmp/tmphqvivfn7/kern.cu(7): error: expected a \")\"\n\n/tmp/tmphqvivfn7/kern.cu(9): error: identifier \"_ind\" is undefined\n\n/tmp/tmphqvivfn7/kern.cu(11): error: pointer to reference is not allowed\n\n/tmp/tmphqvivfn7/kern.cu(12): error: pointer to reference is not allowed\n\n/tmp/tmphqvivfn7/kern.cu(13): error: identifier \"_raw_z\" is undefined\n\n/tmp/tmphqvivfn7/kern.cu(19): error: expected a declaration\n\nAt end of source: warning: parsing restarts here after previous syntax error\n\n6 errors detected in the compilation of \"/tmp/tmphqvivfn7/kern.cu\".\n",
     "output_type": "error",
     "traceback": [
      "\u001b[0;31m---------------------------------------------------------------------------\u001b[0m",
      "\u001b[0;31mNVRTCError\u001b[0m                                Traceback (most recent call last)",
      "\u001b[0;32m~/anaconda3/lib/python3.6/site-packages/cupy/cuda/compiler.py\u001b[0m in \u001b[0;36mcompile\u001b[0;34m(self, options)\u001b[0m\n\u001b[1;32m    240\u001b[0m         \u001b[0;32mtry\u001b[0m\u001b[0;34m:\u001b[0m\u001b[0;34m\u001b[0m\u001b[0m\n\u001b[0;32m--> 241\u001b[0;31m             \u001b[0mnvrtc\u001b[0m\u001b[0;34m.\u001b[0m\u001b[0mcompileProgram\u001b[0m\u001b[0;34m(\u001b[0m\u001b[0mself\u001b[0m\u001b[0;34m.\u001b[0m\u001b[0mptr\u001b[0m\u001b[0;34m,\u001b[0m \u001b[0moptions\u001b[0m\u001b[0;34m)\u001b[0m\u001b[0;34m\u001b[0m\u001b[0m\n\u001b[0m\u001b[1;32m    242\u001b[0m             \u001b[0;32mreturn\u001b[0m \u001b[0mnvrtc\u001b[0m\u001b[0;34m.\u001b[0m\u001b[0mgetPTX\u001b[0m\u001b[0;34m(\u001b[0m\u001b[0mself\u001b[0m\u001b[0;34m.\u001b[0m\u001b[0mptr\u001b[0m\u001b[0;34m)\u001b[0m\u001b[0;34m\u001b[0m\u001b[0m\n",
      "\u001b[0;32mcupy/cuda/nvrtc.pyx\u001b[0m in \u001b[0;36mcupy.cuda.nvrtc.compileProgram\u001b[0;34m()\u001b[0m\n",
      "\u001b[0;32mcupy/cuda/nvrtc.pyx\u001b[0m in \u001b[0;36mcupy.cuda.nvrtc.compileProgram\u001b[0;34m()\u001b[0m\n",
      "\u001b[0;32mcupy/cuda/nvrtc.pyx\u001b[0m in \u001b[0;36mcupy.cuda.nvrtc.check_status\u001b[0;34m()\u001b[0m\n",
      "\u001b[0;31mNVRTCError\u001b[0m: NVRTC_ERROR_COMPILATION (6)",
      "\nDuring handling of the above exception, another exception occurred:\n",
      "\u001b[0;31mCompileException\u001b[0m                          Traceback (most recent call last)",
      "\u001b[0;32m<ipython-input-72-de417fffa508>\u001b[0m in \u001b[0;36m<module>\u001b[0;34m()\u001b[0m\n\u001b[1;32m      6\u001b[0m     \u001b[0mz\u001b[0m\u001b[0;34m=\u001b[0m\u001b[0mx\u001b[0m\u001b[0;34m[\u001b[0m\u001b[0;36m0\u001b[0m\u001b[0;34m]\u001b[0m\u001b[0;34m+\u001b[0m\u001b[0my\u001b[0m\u001b[0;34m[\u001b[0m\u001b[0;36m0\u001b[0m\u001b[0;34m]\u001b[0m\u001b[0;34m;\u001b[0m\u001b[0;34m\u001b[0m\u001b[0m\n\u001b[1;32m      7\u001b[0m     }''', 'my_kernel')\n\u001b[0;32m----> 8\u001b[0;31m \u001b[0mkernel\u001b[0m\u001b[0;34m(\u001b[0m\u001b[0mx\u001b[0m\u001b[0;34m,\u001b[0m \u001b[0my\u001b[0m\u001b[0;34m)\u001b[0m\u001b[0;34m\u001b[0m\u001b[0m\n\u001b[0m",
      "\u001b[0;32mcupy/core/elementwise.pxi\u001b[0m in \u001b[0;36mcupy.core.core.ElementwiseKernel.__call__\u001b[0;34m()\u001b[0m\n",
      "\u001b[0;32mcupy/util.pyx\u001b[0m in \u001b[0;36mcupy.util.memoize.decorator.ret\u001b[0;34m()\u001b[0m\n",
      "\u001b[0;32mcupy/core/elementwise.pxi\u001b[0m in \u001b[0;36mcupy.core.core._get_elementwise_kernel\u001b[0;34m()\u001b[0m\n",
      "\u001b[0;32mcupy/core/elementwise.pxi\u001b[0m in \u001b[0;36mcupy.core.core._get_simple_elementwise_kernel\u001b[0;34m()\u001b[0m\n",
      "\u001b[0;32mcupy/core/elementwise.pxi\u001b[0m in \u001b[0;36mcupy.core.core._get_simple_elementwise_kernel\u001b[0;34m()\u001b[0m\n",
      "\u001b[0;32mcupy/core/carray.pxi\u001b[0m in \u001b[0;36mcupy.core.core.compile_with_cache\u001b[0;34m()\u001b[0m\n",
      "\u001b[0;32m~/anaconda3/lib/python3.6/site-packages/cupy/cuda/compiler.py\u001b[0m in \u001b[0;36mcompile_with_cache\u001b[0;34m(source, options, arch, cache_dir, extra_source)\u001b[0m\n\u001b[1;32m    162\u001b[0m                 \u001b[0;32mreturn\u001b[0m \u001b[0mmod\u001b[0m\u001b[0;34m\u001b[0m\u001b[0m\n\u001b[1;32m    163\u001b[0m \u001b[0;34m\u001b[0m\u001b[0m\n\u001b[0;32m--> 164\u001b[0;31m     \u001b[0mptx\u001b[0m \u001b[0;34m=\u001b[0m \u001b[0mcompile_using_nvrtc\u001b[0m\u001b[0;34m(\u001b[0m\u001b[0msource\u001b[0m\u001b[0;34m,\u001b[0m \u001b[0moptions\u001b[0m\u001b[0;34m,\u001b[0m \u001b[0march\u001b[0m\u001b[0;34m)\u001b[0m\u001b[0;34m\u001b[0m\u001b[0m\n\u001b[0m\u001b[1;32m    165\u001b[0m     \u001b[0mls\u001b[0m \u001b[0;34m=\u001b[0m \u001b[0mfunction\u001b[0m\u001b[0;34m.\u001b[0m\u001b[0mLinkState\u001b[0m\u001b[0;34m(\u001b[0m\u001b[0;34m)\u001b[0m\u001b[0;34m\u001b[0m\u001b[0m\n\u001b[1;32m    166\u001b[0m     \u001b[0mls\u001b[0m\u001b[0;34m.\u001b[0m\u001b[0madd_ptr_data\u001b[0m\u001b[0;34m(\u001b[0m\u001b[0mptx\u001b[0m\u001b[0;34m,\u001b[0m \u001b[0msix\u001b[0m\u001b[0;34m.\u001b[0m\u001b[0mu\u001b[0m\u001b[0;34m(\u001b[0m\u001b[0;34m'cupy.ptx'\u001b[0m\u001b[0;34m)\u001b[0m\u001b[0;34m)\u001b[0m\u001b[0;34m\u001b[0m\u001b[0m\n",
      "\u001b[0;32m~/anaconda3/lib/python3.6/site-packages/cupy/cuda/compiler.py\u001b[0m in \u001b[0;36mcompile_using_nvrtc\u001b[0;34m(source, options, arch)\u001b[0m\n\u001b[1;32m     80\u001b[0m         \u001b[0mprog\u001b[0m \u001b[0;34m=\u001b[0m \u001b[0m_NVRTCProgram\u001b[0m\u001b[0;34m(\u001b[0m\u001b[0msource\u001b[0m\u001b[0;34m,\u001b[0m \u001b[0mcu_path\u001b[0m\u001b[0;34m)\u001b[0m\u001b[0;34m\u001b[0m\u001b[0m\n\u001b[1;32m     81\u001b[0m         \u001b[0;32mtry\u001b[0m\u001b[0;34m:\u001b[0m\u001b[0;34m\u001b[0m\u001b[0m\n\u001b[0;32m---> 82\u001b[0;31m             \u001b[0mptx\u001b[0m \u001b[0;34m=\u001b[0m \u001b[0mprog\u001b[0m\u001b[0;34m.\u001b[0m\u001b[0mcompile\u001b[0m\u001b[0;34m(\u001b[0m\u001b[0moptions\u001b[0m\u001b[0;34m)\u001b[0m\u001b[0;34m\u001b[0m\u001b[0m\n\u001b[0m\u001b[1;32m     83\u001b[0m         \u001b[0;32mexcept\u001b[0m \u001b[0mCompileException\u001b[0m \u001b[0;32mas\u001b[0m \u001b[0me\u001b[0m\u001b[0;34m:\u001b[0m\u001b[0;34m\u001b[0m\u001b[0m\n\u001b[1;32m     84\u001b[0m             dump = _get_bool_env_variable(\n",
      "\u001b[0;32m~/anaconda3/lib/python3.6/site-packages/cupy/cuda/compiler.py\u001b[0m in \u001b[0;36mcompile\u001b[0;34m(self, options)\u001b[0m\n\u001b[1;32m    243\u001b[0m         \u001b[0;32mexcept\u001b[0m \u001b[0mnvrtc\u001b[0m\u001b[0;34m.\u001b[0m\u001b[0mNVRTCError\u001b[0m\u001b[0;34m:\u001b[0m\u001b[0;34m\u001b[0m\u001b[0m\n\u001b[1;32m    244\u001b[0m             \u001b[0mlog\u001b[0m \u001b[0;34m=\u001b[0m \u001b[0mnvrtc\u001b[0m\u001b[0;34m.\u001b[0m\u001b[0mgetProgramLog\u001b[0m\u001b[0;34m(\u001b[0m\u001b[0mself\u001b[0m\u001b[0;34m.\u001b[0m\u001b[0mptr\u001b[0m\u001b[0;34m)\u001b[0m\u001b[0;34m\u001b[0m\u001b[0m\n\u001b[0;32m--> 245\u001b[0;31m             \u001b[0;32mraise\u001b[0m \u001b[0mCompileException\u001b[0m\u001b[0;34m(\u001b[0m\u001b[0mlog\u001b[0m\u001b[0;34m,\u001b[0m \u001b[0mself\u001b[0m\u001b[0;34m.\u001b[0m\u001b[0msrc\u001b[0m\u001b[0;34m,\u001b[0m \u001b[0mself\u001b[0m\u001b[0;34m.\u001b[0m\u001b[0mname\u001b[0m\u001b[0;34m,\u001b[0m \u001b[0moptions\u001b[0m\u001b[0;34m)\u001b[0m\u001b[0;34m\u001b[0m\u001b[0m\n\u001b[0m\u001b[1;32m    246\u001b[0m \u001b[0;34m\u001b[0m\u001b[0m\n\u001b[1;32m    247\u001b[0m \u001b[0;34m\u001b[0m\u001b[0m\n",
      "\u001b[0;31mCompileException\u001b[0m: /tmp/tmphqvivfn7/kern.cu(7): error: expected a \")\"\n\n/tmp/tmphqvivfn7/kern.cu(9): error: identifier \"_ind\" is undefined\n\n/tmp/tmphqvivfn7/kern.cu(11): error: pointer to reference is not allowed\n\n/tmp/tmphqvivfn7/kern.cu(12): error: pointer to reference is not allowed\n\n/tmp/tmphqvivfn7/kern.cu(13): error: identifier \"_raw_z\" is undefined\n\n/tmp/tmphqvivfn7/kern.cu(19): error: expected a declaration\n\nAt end of source: warning: parsing restarts here after previous syntax error\n\n6 errors detected in the compilation of \"/tmp/tmphqvivfn7/kern.cu\".\n"
     ]
    }
   ],
   "source": [
    "x = cp.array([[1,2],[2,4]],dtype=np.float32)\n",
    "y = cp.array([[1,2],[2,4]],dtype=np.float32)\n",
    "kernel = cp.ElementwiseKernel(\n",
    "    'float32 *x, float32 *y', 'float32 z',\n",
    "    '''\n",
    "    z=x[0]+y[0];\n",
    "    }''', 'my_kernel')\n",
    "kernel(x, y)"
   ]
  },
  {
   "cell_type": "code",
   "execution_count": null,
   "metadata": {
    "collapsed": true
   },
   "outputs": [],
   "source": [
    "import pandas as pd\n",
    "t=time.time()\n",
    "a=pd.read_csv('train.csv',header=None).astype(\"float32\")\n",
    "print(np.shape(a))\n",
    "print(time.time()-t)"
   ]
  },
  {
   "cell_type": "code",
   "execution_count": null,
   "metadata": {
    "collapsed": true
   },
   "outputs": [],
   "source": [
    "t=time.time()\n",
    "fail = np.array(list(np.loadtxt(\"train.csv\", delimiter=\",\"))).astype(\"float32\")\n",
    "print(np.shape(a))\n",
    "print(time.time()-t)"
   ]
  },
  {
   "cell_type": "code",
   "execution_count": null,
   "metadata": {
    "collapsed": true
   },
   "outputs": [],
   "source": [
    "import pandas as pd\n",
    "t=time.time()\n",
    "a.to_csv('hello1.csv')\n",
    "print(time.time()-t)"
   ]
  },
  {
   "cell_type": "code",
   "execution_count": null,
   "metadata": {
    "collapsed": true
   },
   "outputs": [],
   "source": [
    "f=open('hello2.csv','ab')\n",
    "t=time.time()\n",
    "np.savetxt(f,a,delimiter=',')\n",
    "print(time.time()-t)"
   ]
  },
  {
   "cell_type": "code",
   "execution_count": null,
   "metadata": {
    "collapsed": true
   },
   "outputs": [],
   "source": [
    "import pandas as pd\n",
    "t=time.time()\n",
    "a=np.array(pd.read_csv('eval_label.csv',header=None)).astype(\"float32\")\n",
    "print(np.shape(a))\n",
    "a=np.reshape(a,(21,340))\n",
    "print(np.shape(a))\n",
    "print(time.time()-t)"
   ]
  },
  {
   "cell_type": "code",
   "execution_count": null,
   "metadata": {
    "collapsed": true
   },
   "outputs": [],
   "source": [
    "a=cp.array([[[1,2,3],[2,3,4]],[[1,2,3],[2,3,8]]])\n",
    "b=cp.array([[[1,2,3],[2,3,5]],[[1,2,8],[2,3,7]]])\n",
    "np.shape(a)"
   ]
  },
  {
   "cell_type": "code",
   "execution_count": null,
   "metadata": {
    "collapsed": true
   },
   "outputs": [],
   "source": [
    "a=cp.asnumpy(a)\n",
    "b=cp.asnumpy(b)\n",
    "print(np.shape(a))\n",
    "print(np.shape(b))"
   ]
  },
  {
   "cell_type": "code",
   "execution_count": null,
   "metadata": {
    "collapsed": true
   },
   "outputs": [],
   "source": [
    "c=np.cross(a,b,axisa=2,axisb=2)\n",
    "c=cp.array(c)\n",
    "x=[1,0,0]\n",
    "print(c)"
   ]
  },
  {
   "cell_type": "code",
   "execution_count": null,
   "metadata": {
    "collapsed": true
   },
   "outputs": [],
   "source": [
    "cp.dot(a,x)"
   ]
  },
  {
   "cell_type": "code",
   "execution_count": 22,
   "metadata": {},
   "outputs": [
    {
     "name": "stdout",
     "output_type": "stream",
     "text": [
      "3.4340617656707764\n"
     ]
    }
   ],
   "source": [
    "t=time.time()\n",
    "for i in range(1000):\n",
    "    a=cp.random.rand(5000,5000)\n",
    "    a=a*np.pi\n",
    "print(time.time()-t)"
   ]
  },
  {
   "cell_type": "code",
   "execution_count": 26,
   "metadata": {},
   "outputs": [
    {
     "name": "stdout",
     "output_type": "stream",
     "text": [
      "3.8951575756073\n"
     ]
    }
   ],
   "source": [
    "t=time.time()\n",
    "for i in range(1):\n",
    "    a=np.random.rand(5000,5000,3)\n",
    "    b=np.random.rand(5000,5000,3)\n",
    "    c=np.cross(a,b,axisa=2,axisb=2)\n",
    "print(time.time()-t)"
   ]
  },
  {
   "cell_type": "code",
   "execution_count": 57,
   "metadata": {},
   "outputs": [
    {
     "data": {
      "text/plain": [
       "array([[ 1.,  0.,  1., ...,  0.,  1.,  0.],\n",
       "       [ 0.,  1.,  0., ...,  1.,  0.,  1.],\n",
       "       [ 1.,  0.,  1., ...,  0.,  1.,  0.],\n",
       "       ..., \n",
       "       [ 0.,  1.,  0., ...,  1.,  0.,  1.],\n",
       "       [ 1.,  0.,  1., ...,  0.,  1.,  0.],\n",
       "       [ 0.,  1.,  0., ...,  1.,  0.,  1.]], dtype=float32)"
      ]
     },
     "execution_count": 57,
     "metadata": {},
     "output_type": "execute_result"
    }
   ],
   "source": [
    "L=2000\n",
    "x = cp.ones((L, L),dtype='float32')\n",
    "kernel = cp.ElementwiseKernel(\n",
    "     'float32 x, int16 L', 'float32 z',\n",
    "     '''\n",
    "     int b=i%L;\n",
    "     int a=(i-b)/L;\n",
    "     if ((a+b)%2 == 0) {\n",
    "       z = 1;\n",
    "     } \n",
    "     else {\n",
    "       z = 0;\n",
    "     }''', 'my_kernel')\n",
    "kernel(x,L)"
   ]
  },
  {
   "cell_type": "code",
   "execution_count": 29,
   "metadata": {},
   "outputs": [
    {
     "data": {
      "text/plain": [
       "array([ 1.37475072,  0.58344262,  0.18554245,  0.30868634,  1.00635175,\n",
       "        0.99147514,  1.20910769,  0.34309083,  0.929992  ,  0.28285548])"
      ]
     },
     "execution_count": 29,
     "metadata": {},
     "output_type": "execute_result"
    }
   ],
   "source": [
    "add_reverse(cp.random.rand(10),cp.random.rand(10))"
   ]
  },
  {
   "cell_type": "code",
   "execution_count": 23,
   "metadata": {
    "collapsed": true
   },
   "outputs": [],
   "source": [
    "cross = cp.ElementwiseKernel(\n",
    "     'raw float64 a,raw float64 b, float64 c', '',\n",
    "     '''\n",
    "     int z=i%3;\n",
    "     if (z==0){\n",
    "     c=a[i+1]*b[i+2]-a[i+2]*b[i+1];\n",
    "     }\n",
    "     else if (z==1){\n",
    "     c=a[i+1]*b[i-1]-a[i-1]*b[i+1];\n",
    "     }\n",
    "     else{\n",
    "     c=a[i-2]*b[i-1]-a[i-1]*b[i-2];\n",
    "     }\n",
    "     ''', 'my_kernel')"
   ]
  },
  {
   "cell_type": "code",
   "execution_count": 24,
   "metadata": {},
   "outputs": [
    {
     "data": {
      "text/plain": [
       "()"
      ]
     },
     "execution_count": 24,
     "metadata": {},
     "output_type": "execute_result"
    }
   ],
   "source": [
    "L=24\n",
    "a=cp.random.rand(24,24,3)\n",
    "b=cp.random.rand(24,24,3)\n",
    "c=cp.random.rand(24,24,3)\n",
    "cross(a,b,c)"
   ]
  },
  {
   "cell_type": "code",
   "execution_count": 25,
   "metadata": {},
   "outputs": [
    {
     "name": "stdout",
     "output_type": "stream",
     "text": [
      "[[[ 0.99247806  0.53264717  0.53177759]\n",
      "  [ 0.72224179  0.05942899  0.08072111]\n",
      "  [ 0.9400539   0.07501623  0.29620522]\n",
      "  ..., \n",
      "  [ 0.66165411  0.61366677  0.39214291]\n",
      "  [ 0.0287389   0.34898722  0.34993167]\n",
      "  [ 0.07587204  0.90661688  0.98384034]]\n",
      "\n",
      " [[ 0.16852452  0.49658299  0.81536983]\n",
      "  [ 0.29180444  0.18001766  0.43427931]\n",
      "  [ 0.81237459  0.73307192  0.93356688]\n",
      "  ..., \n",
      "  [ 0.58710443  0.00610075  0.38988382]\n",
      "  [ 0.58562278  0.36574392  0.45294151]\n",
      "  [ 0.62564738  0.13898295  0.22798594]]\n",
      "\n",
      " [[ 0.79034006  0.73123325  0.69302634]\n",
      "  [ 0.77177023  0.19644689  0.42457469]\n",
      "  [ 0.67601527  0.44980085  0.20371852]\n",
      "  ..., \n",
      "  [ 0.43361341  0.84862519  0.07967181]\n",
      "  [ 0.95270987  0.25319245  0.23835799]\n",
      "  [ 0.18567576  0.12098021  0.16667143]]\n",
      "\n",
      " ..., \n",
      " [[ 0.47223448  0.64445671  0.03479087]\n",
      "  [ 0.80123184  0.70926635  0.78878182]\n",
      "  [ 0.55479435  0.76003686  0.90246412]\n",
      "  ..., \n",
      "  [ 0.32061068  0.38071027  0.51734548]\n",
      "  [ 0.27012142  0.96873176  0.85309302]\n",
      "  [ 0.51178299  0.15217777  0.38146523]]\n",
      "\n",
      " [[ 0.09427221  0.79637365  0.31523322]\n",
      "  [ 0.77853515  0.20505684  0.67470647]\n",
      "  [ 0.93897674  0.84019554  0.36901209]\n",
      "  ..., \n",
      "  [ 0.51508141  0.79361064  0.30963111]\n",
      "  [ 0.93209811  0.63823162  0.34515846]\n",
      "  [ 0.21033133  0.94635908  0.39892929]]\n",
      "\n",
      " [[ 0.72319273  0.27762905  0.93189051]\n",
      "  [ 0.68650892  0.75699021  0.99503021]\n",
      "  [ 0.2263081   0.33103011  0.87353484]\n",
      "  ..., \n",
      "  [ 0.60648772  0.99337976  0.93013942]\n",
      "  [ 0.14303925  0.87227625  0.63465702]\n",
      "  [ 0.62901483  0.80707342  0.75604452]]] [[[ 0.38303996  0.69716512  0.18334363]\n",
      "  [ 0.75922938  0.08352447  0.23007721]\n",
      "  [ 0.0011504   0.75062413  0.87123605]\n",
      "  ..., \n",
      "  [ 0.39172824  0.94295403  0.97777932]\n",
      "  [ 0.79216851  0.16088985  0.89835097]\n",
      "  [ 0.14385637  0.95735823  0.34963411]]\n",
      "\n",
      " [[ 0.55192295  0.32852117  0.84057166]\n",
      "  [ 0.96140516  0.13268494  0.15809953]\n",
      "  [ 0.30589942  0.95322793  0.8213853 ]\n",
      "  ..., \n",
      "  [ 0.02266441  0.32664594  0.46947881]\n",
      "  [ 0.14757388  0.30955173  0.30293513]\n",
      "  [ 0.10617172  0.77158329  0.71406514]]\n",
      "\n",
      " [[ 0.05185658  0.73420964  0.81207188]\n",
      "  [ 0.56781993  0.41243223  0.51039509]\n",
      "  [ 0.08021916  0.43572037  0.9470741 ]\n",
      "  ..., \n",
      "  [ 0.87515421  0.05705903  0.23130672]\n",
      "  [ 0.66964646  0.40480378  0.55437996]\n",
      "  [ 0.25111765  0.57492416  0.04387636]]\n",
      "\n",
      " ..., \n",
      " [[ 0.62394034  0.22961234  0.98881315]\n",
      "  [ 0.17036268  0.81356128  0.38215497]\n",
      "  [ 0.41398445  0.53690194  0.04598902]\n",
      "  ..., \n",
      "  [ 0.2599801   0.27686139  0.41071142]\n",
      "  [ 0.26606769  0.33687722  0.86270006]\n",
      "  [ 0.73185277  0.98669489  0.95986884]]\n",
      "\n",
      " [[ 0.70988595  0.52091334  0.32676016]\n",
      "  [ 0.9647017   0.38166722  0.9631185 ]\n",
      "  [ 0.02257571  0.83745931  0.6238836 ]\n",
      "  ..., \n",
      "  [ 0.18100209  0.12102525  0.76052243]\n",
      "  [ 0.88746969  0.23900721  0.16153154]\n",
      "  [ 0.75731132  0.62328353  0.49803248]]\n",
      "\n",
      " [[ 0.74589806  0.32305666  0.45818246]\n",
      "  [ 0.4602624   0.83031574  0.95036743]\n",
      "  [ 0.87950112  0.11038612  0.88444235]\n",
      "  ..., \n",
      "  [ 0.47641103  0.60746939  0.57833506]\n",
      "  [ 0.10866701  0.92003255  0.99672372]\n",
      "  [ 0.61747538  0.3218283   0.10910704]]] [[[-0.27307932  0.02172753  0.48789594]\n",
      "  [ 0.00693107 -0.10488554  0.01520463]\n",
      "  [-0.15698194 -0.81866809  0.70554085]\n",
      "  ..., \n",
      "  [ 0.23025794 -0.49333825  0.38351881]\n",
      "  [ 0.25721255  0.25138723 -0.27183289]\n",
      "  [-0.62490346  0.11500425 -0.05778589]]\n",
      "\n",
      " [[ 0.14954734  0.30836438 -0.21871167]\n",
      "  [-0.02916162  0.37138423 -0.13435185]\n",
      "  [-0.28776752 -0.38169498  0.55013187]\n",
      "  ..., \n",
      "  [-0.1244898  -0.2667966   0.19163701]\n",
      "  [-0.02941215 -0.11056337  0.1273063 ]\n",
      "  [-0.07666726 -0.42254732  0.46798301]]\n",
      "\n",
      " [[ 0.08498733 -0.60587496  0.54235603]\n",
      "  [-0.07484276 -0.15282577  0.20675646]\n",
      "  [ 0.33723043 -0.62389442  0.25847097]\n",
      "  ..., \n",
      "  [ 0.19174671 -0.03057257 -0.71793634]\n",
      "  [ 0.04387661 -0.36854767  0.21611112]\n",
      "  [-0.09051526  0.03370736  0.07636921]]\n",
      "\n",
      " ..., \n",
      " [[ 0.62925886 -0.44524424 -0.29367167]\n",
      "  [-0.37067269 -0.17181574  0.53101868]\n",
      "  [-0.44958139  0.34809167 -0.01677328]\n",
      "  ..., \n",
      "  [ 0.01312907  0.00282106 -0.01021238]\n",
      "  [ 0.54833734 -0.00605327 -0.16675047]\n",
      "  [-0.23031909 -0.21206815  0.39360193]]\n",
      "\n",
      " [[ 0.09601399  0.19297523 -0.51622681]\n",
      "  [-0.06001931 -0.09893114  0.09932267]\n",
      "  [ 0.21515161 -0.57748148  0.7673868 ]\n",
      "  ..., \n",
      "  [ 0.56608551 -0.33568708 -0.08130733]\n",
      "  [ 0.02059918  0.15575443 -0.34363305]\n",
      "  [ 0.2226715   0.19736184 -0.5855924 ]]\n",
      "\n",
      " [[-0.17384867  0.3637411   0.02654926]\n",
      "  [-0.1067704  -0.19446073  0.22160503]\n",
      "  [ 0.19635092  0.5681184  -0.26616007]\n",
      "  ..., \n",
      "  [ 0.00947511  0.09237558 -0.10483435]\n",
      "  [ 0.2855133  -0.07360433  0.03681311]\n",
      "  [-0.15525914  0.39820893 -0.29591319]]]\n"
     ]
    }
   ],
   "source": [
    "print(a,b,c)"
   ]
  },
  {
   "cell_type": "code",
   "execution_count": 4,
   "metadata": {},
   "outputs": [
    {
     "name": "stdout",
     "output_type": "stream",
     "text": [
      "3.1227004528045654\n"
     ]
    }
   ],
   "source": [
    "f=open('hello.csv','ab')\n",
    "a=cp.random.rand(1000,1000,3)\n",
    "t=time.time()\n",
    "a=cp.asnumpy(cp.reshape(a,(1,-1)))\n",
    "np.savetxt(f,a,delimiter=',')\n",
    "print(time.time()-t)"
   ]
  },
  {
   "cell_type": "code",
   "execution_count": 5,
   "metadata": {},
   "outputs": [
    {
     "name": "stdout",
     "output_type": "stream",
     "text": [
      "[[ 0.00278252  0.43299657  0.0618159   0.27255134  0.78513424  0.82940055]\n",
      " [ 0.19966074  0.43894284  0.50471028  0.82550662  0.83203446  0.3327778 ]\n",
      " [ 0.91638776  0.72779607  0.27271577  0.50657244  0.33171954  0.32705667]\n",
      " [ 0.32101096  0.82958041  0.21398058  0.98748115  0.604119    0.71209299]\n",
      " [ 0.3166891   0.08755292  0.96288272  0.83967379  0.23674291  0.01273814]\n",
      " [ 0.92377914  0.18890275  0.29028929  0.494937    0.30906967  0.02772619]]\n"
     ]
    }
   ],
   "source": [
    "a=cp.random.rand(6,6)\n",
    "print(a)"
   ]
  },
  {
   "cell_type": "code",
   "execution_count": 9,
   "metadata": {},
   "outputs": [
    {
     "name": "stdout",
     "output_type": "stream",
     "text": [
      "[ 0.82940055]\n"
     ]
    }
   ],
   "source": [
    "print(cp.diagonal(a,offset=5))"
   ]
  },
  {
   "cell_type": "code",
   "execution_count": 30,
   "metadata": {},
   "outputs": [
    {
     "data": {
      "image/png": "[encoded data removed]",
      "text/plain": [
       "<matplotlib.figure.Figure at 0x7f77c6e8fac8>"
      ]
     },
     "metadata": {},
     "output_type": "display_data"
    }
   ],
   "source": []
  },
  {
   "cell_type": "code",
   "execution_count": 17,
   "metadata": {},
   "outputs": [
    {
     "name": "stdout",
     "output_type": "stream",
     "text": [
      "12726.038098448684\n",
      "0.0033881664276123047\n",
      "6336.294334140375\n",
      "0.33052563667297363\n"
     ]
    }
   ],
   "source": [
    "a=cp.random.rand(50)\n",
    "b=cp.random.rand(1000,50)\n",
    "t=time.time()\n",
    "print(cp.sum(a*b))\n",
    "print(time.time()-t)\n",
    "\n",
    "a=np.random.rand(50)\n",
    "b=np.random.rand(1000,50)\n",
    "t=time.time()\n",
    "print(np.sum(a*b))\n",
    "print(time.time()-t)"
   ]
  },
  {
   "cell_type": "code",
   "execution_count": 9,
   "metadata": {},
   "outputs": [
    {
     "data": {
      "text/plain": [
       "array([[ 0.21126627,  0.25455955,  0.17677254, ...,  0.04494949,\n",
       "         0.17233994,  0.19255673],\n",
       "       [ 0.05290909,  0.30721169,  0.61262874, ...,  0.39841706,\n",
       "         0.49804467,  0.36261075],\n",
       "       [ 0.21562809,  0.20581112,  0.17619876, ...,  0.08490275,\n",
       "         0.04247368,  0.17296178],\n",
       "       ..., \n",
       "       [ 0.25725344,  0.41825522,  0.40507774, ...,  0.16801644,\n",
       "         0.29943649,  0.06365073],\n",
       "       [ 0.00378032,  0.04375743,  0.04187927, ...,  0.02460201,\n",
       "         0.0087042 ,  0.01347729],\n",
       "       [ 0.19277321,  0.11757169,  0.07173716, ...,  0.14549169,\n",
       "         0.12028305,  0.01234387]])"
      ]
     },
     "execution_count": 9,
     "metadata": {},
     "output_type": "execute_result"
    }
   ],
   "source": [
    "a=np.random.rand(1000,1)\n",
    "b=np.random.rand(1000,50)\n",
    "a*b"
   ]
  },
  {
   "cell_type": "code",
   "execution_count": 8,
   "metadata": {},
   "outputs": [
    {
     "name": "stdout",
     "output_type": "stream",
     "text": [
      "(3, 4) (4,)\n",
      "(3, 4) (4,)\n"
     ]
    }
   ],
   "source": [
    "a=np.random.rand(2,3,4)\n",
    "b=np.random.rand(2,4)\n",
    "for x,y in zip(a,b):\n",
    "    print(np.shape(x),np.shape(y))"
   ]
  },
  {
   "cell_type": "code",
   "execution_count": 25,
   "metadata": {},
   "outputs": [],
   "source": [
    "a=np.random.rand(5)\n",
    "b=np.random.rand(5)"
   ]
  },
  {
   "cell_type": "code",
   "execution_count": 24,
   "metadata": {},
   "outputs": [
    {
     "name": "stdout",
     "output_type": "stream",
     "text": [
      "(5, 6, 3)\n"
     ]
    }
   ],
   "source": [
    "print(np.shape(b))"
   ]
  },
  {
   "cell_type": "code",
   "execution_count": 26,
   "metadata": {},
   "outputs": [
    {
     "ename": "TypeError",
     "evalue": "'numpy.ndarray' object is not callable",
     "output_type": "error",
     "traceback": [
      "\u001b[0;31m---------------------------------------------------------------------------\u001b[0m",
      "\u001b[0;31mTypeError\u001b[0m                                 Traceback (most recent call last)",
      "\u001b[0;32m<ipython-input-26-08a81bea6fd6>\u001b[0m in \u001b[0;36m<module>\u001b[0;34m()\u001b[0m\n\u001b[0;32m----> 1\u001b[0;31m \u001b[0mlist\u001b[0m\u001b[0;34m(\u001b[0m\u001b[0mmap\u001b[0m\u001b[0;34m(\u001b[0m\u001b[0ma\u001b[0m\u001b[0;34m,\u001b[0m\u001b[0mb\u001b[0m\u001b[0;34m)\u001b[0m\u001b[0;34m)\u001b[0m\u001b[0;34m\u001b[0m\u001b[0m\n\u001b[0m",
      "\u001b[0;31mTypeError\u001b[0m: 'numpy.ndarray' object is not callable"
     ]
    }
   ],
   "source": [
    "np.vectorize()"
   ]
  },
  {
   "cell_type": "code",
   "execution_count": null,
   "metadata": {
    "collapsed": true
   },
   "outputs": [],
   "source": []
  }
 ],
 "metadata": {
  "kernelspec": {
   "display_name": "Python 3",
   "language": "python",
   "name": "python3"
  },
  "language_info": {
   "codemirror_mode": {
    "name": "ipython",
    "version": 3
   },
   "file_extension": ".py",
   "mimetype": "text/x-python",
   "name": "python",
   "nbconvert_exporter": "python",
   "pygments_lexer": "ipython3",
   "version": "3.6.3"
  }
 },
 "nbformat": 4,
 "nbformat_minor": 2
}
