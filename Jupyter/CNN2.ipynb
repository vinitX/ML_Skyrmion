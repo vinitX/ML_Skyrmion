{
 "cells": [
  {
   "cell_type": "code",
   "execution_count": 1,
   "metadata": {},
   "outputs": [
    {
     "name": "stderr",
     "output_type": "stream",
     "text": [
      "C:\\Users\\Skinny\\Anaconda3\\lib\\site-packages\\h5py\\__init__.py:36: FutureWarning: Conversion of the second argument of issubdtype from `float` to `np.floating` is deprecated. In future, it will be treated as `np.float64 == np.dtype(float).type`.\n",
      "  from ._conv import register_converters as _register_converters\n",
      "Using TensorFlow backend.\n"
     ]
    }
   ],
   "source": [
    "import numpy as np\n",
    "import matplotlib.pyplot as plt\n",
    "import time\n",
    "%matplotlib inline\n",
    "#from sklearn.model_selection import train_test_split\n",
    "#from sklearn.metrics import confusion_matrix\n",
    "from keras.utils.np_utils import to_categorical # convert to one-hot-encoding\n",
    "from keras.models import Sequential\n",
    "from keras.layers import Dense, Dropout, Flatten, Conv2D, MaxPool2D, BatchNormalization\n",
    "from keras.optimizers import Adam\n",
    "#from keras.preprocessing.image import ImageDataGenerator\n",
    "from keras.callbacks import LearningRateScheduler\n",
    "import pandas as pd"
   ]
  },
  {
   "cell_type": "code",
   "execution_count": null,
   "metadata": {},
   "outputs": [],
   "source": [
    "t=time.time()\n",
    "train_data = pd.read_csv(\"train.csv\",header=None).astype(\"float32\")\n",
    "train_labels = pd.read_csv(\"train_label.csv\",header=None).astype(\"int\")\n",
    "#eval_data = np.array(list(np.loadtxt(\"eval.csv\", delimiter=\",\"))).astype(\"float32\")\n",
    "#eval_labels = np.array(list(np.loadtxt(\"eval_label.csv\", delimiter=\",\"))).astype(\"int\")\n",
    "print(time.time()-t)"
   ]
  },
  {
   "cell_type": "code",
   "execution_count": null,
   "metadata": {
    "collapsed": true
   },
   "outputs": [],
   "source": [
    "testset1 = pd.read_csv(\"Fine1.csv\",header=None).astype(\"float32\")\n",
    "testset2 = pd.read_csv(\"Fine2.csv\",header=None).astype(\"float32\")"
   ]
  },
  {
   "cell_type": "code",
   "execution_count": null,
   "metadata": {},
   "outputs": [],
   "source": [
    "x_train = np.reshape(train_data,(-1, 24,24,3))\n",
    "#x_val = eval_data.reshape(-1, 24,24,3)\n",
    "y_train = np.reshape(train_labels,(-1,1))\n",
    "#y_val = eval_labels.reshape(-1,1)\n",
    "\n",
    "y_train = to_categorical(y_train)\n",
    "#y_val = to_categorical(y_val)\n",
    "\n",
    "#print(np.shape(x_train),np.shape(x_val),np.shape(y_train),np.shape(y_val))\n",
    "print(np.shape(x_train),np.shape(y_train))\n",
    "print(y_train[0])"
   ]
  },
  {
   "cell_type": "code",
   "execution_count": null,
   "metadata": {},
   "outputs": [],
   "source": [
    "model = Sequential()\n",
    "\n",
    "model.add(Conv2D(filters = 16, kernel_size = (6, 6), activation='relu',\n",
    "                 input_shape = (24, 24, 3)))\n",
    "model.add(BatchNormalization())\n",
    "#model.add(Conv2D(filters = 16, kernel_size = (3, 3), activation='relu'))\n",
    "#model.add(BatchNormalization())\n",
    "#model.add(Conv2D(filters = 16, kernel_size = (3, 3), activation='relu'))\n",
    "#model.add(BatchNormalization())\n",
    "model.add(MaxPool2D(strides=(2,2)))\n",
    "model.add(Dropout(0.25))\n",
    "\n",
    "model.add(Conv2D(filters = 32, kernel_size = (3, 3), activation='relu'))\n",
    "model.add(BatchNormalization())\n",
    "#model.add(Conv2D(filters = 32, kernel_size = (3, 3), activation='relu'))\n",
    "#model.add(BatchNormalization())\n",
    "#model.add(Conv2D(filters = 32, kernel_size = (3, 3), activation='relu'))\n",
    "#model.add(BatchNormalization())\n",
    "model.add(MaxPool2D(strides=(2,2)))\n",
    "model.add(Dropout(0.25))\n",
    "\n",
    "model.add(Flatten())\n",
    "\n",
    "model.add(Dense(512, activation='relu'))\n",
    "model.add(Dropout(0.25))\n",
    "model.add(Dense(1024, activation='relu'))\n",
    "model.add(Dropout(0.5))\n",
    "model.add(Dense(3, activation='softmax'))"
   ]
  },
  {
   "cell_type": "code",
   "execution_count": null,
   "metadata": {
    "collapsed": true
   },
   "outputs": [],
   "source": [
    "model.compile(loss='categorical_crossentropy', optimizer = Adam(lr=1e-4), metrics=[\"accuracy\"])"
   ]
  },
  {
   "cell_type": "code",
   "execution_count": null,
   "metadata": {
    "collapsed": true
   },
   "outputs": [],
   "source": [
    "annealer = LearningRateScheduler(lambda x: 1e-3 * 0.9 ** x)"
   ]
  },
  {
   "cell_type": "code",
   "execution_count": null,
   "metadata": {
    "scrolled": true
   },
   "outputs": [],
   "source": [
    "hist = model.fit(x=x_train, y=y_train, batch_size=1024,\n",
    "                           epochs=10, #Increase this when not on Kaggle kernel\n",
    "                           verbose=2,  #1 for ETA, 0 for silent\n",
    "                           callbacks=[annealer])"
   ]
  },
  {
   "cell_type": "code",
   "execution_count": null,
   "metadata": {},
   "outputs": [],
   "source": [
    "#final_loss, final_acc = model.evaluate(x_val, y_val, verbose=0)\n",
    "#print(\"Final loss: {0:.4f}, final accuracy: {1:.4f}\".format(final_loss, final_acc))"
   ]
  },
  {
   "cell_type": "code",
   "execution_count": null,
   "metadata": {},
   "outputs": [],
   "source": [
    "plt.plot(hist.history['loss'], color='b')\n",
    "#plt.plot(hist.history['val_loss'], color='r')\n",
    "plt.show()\n",
    "plt.plot(hist.history['acc'], color='b')\n",
    "#plt.plot(hist.history['val_acc'], color='r')\n",
    "plt.show()"
   ]
  },
  {
   "cell_type": "code",
   "execution_count": null,
   "metadata": {},
   "outputs": [],
   "source": [
    "'''y_hat = model.predict(x_val)\n",
    "print(np.shape(y_hat))\n",
    "y_pred = np.argmax(y_hat, axis=1)\n",
    "y_true = np.argmax(y_val, axis=1)\n",
    "cm = confusion_matrix(y_true, y_pred)\n",
    "print(cm)'''"
   ]
  },
  {
   "cell_type": "code",
   "execution_count": null,
   "metadata": {},
   "outputs": [],
   "source": [
    "x_test = np.reshape(testset1,(-1, 24,24,3))\n",
    "y_hat1 = model.predict(x_test)\n",
    "np.savetxt('spsk.csv',y_hat1,delimiter=',')\n",
    "print(np.shape(x_test))\n",
    "x_test = np.reshape(testset2,(-1, 24,24,3))\n",
    "y_hat2 = model.predict(x_test)\n",
    "np.savetxt('skfm.csv',y_hat2,delimiter=',')\n",
    "print(np.shape(x_test))"
   ]
  },
  {
   "cell_type": "code",
   "execution_count": null,
   "metadata": {},
   "outputs": [],
   "source": [
    "y_hat1=np.loadtxt('spsk.csv',delimiter=',')\n",
    "y_hat2=np.loadtxt('skfm.csv',delimiter=',')\n",
    "\n",
    "p=np.array(100*y_hat1,dtype=int)\n",
    "print(np.shape(p))\n",
    "t=np.zeros((51,3))\n",
    "x = np.arange(1.2,1.71,0.01)\n",
    "for i in range(51):\n",
    "    for j in range(3):\n",
    "        t[i,j]=np.mean(p[i*2020:(i+1)*2020,j])\n",
    "\n",
    "plt.figure()\n",
    "plt.plot(x,t[:,0],color='r')\n",
    "plt.plot(x,t[:,1],color='g')\n",
    "plt.plot(x,t[:,2],color='b')\n",
    "plt.legend(['Spiral', 'Skyrmion', 'Ferromagnet'])\n",
    "plt.title('SpSk')\n",
    "plt.xlabel('B')\n",
    "plt.ylabel('Phase Prediction %')\n",
    "\n",
    "plt.show()\n",
    "\n",
    "p=np.array(100*y_hat2,dtype=int)\n",
    "print(np.shape(p))\n",
    "t=np.zeros((41,3))\n",
    "x = np.arange(2.8,3.2,0.01)\n",
    "for i in range(41):\n",
    "    for j in range(3):\n",
    "        t[i,j]=np.mean(p[i*2020:(i+1)*2020,j])\n",
    "\n",
    "plt.plot(x,t[:,0],color='r')\n",
    "plt.plot(x,t[:,1],color='g')\n",
    "plt.plot(x,t[:,2],color='b')\n",
    "plt.legend(['Spiral', 'Skyrmion', 'Ferromagnet'])\n",
    "plt.title('SkFm')\n",
    "plt.xlabel('B')\n",
    "plt.ylabel('Phase Prediction %')\n",
    "\n",
    "plt.show()"
   ]
  },
  {
   "cell_type": "code",
   "execution_count": null,
   "metadata": {},
   "outputs": [],
   "source": [
    "plt.show()"
   ]
  },
  {
   "cell_type": "code",
   "execution_count": null,
   "metadata": {
    "collapsed": true
   },
   "outputs": [],
   "source": []
  }
 ],
 "metadata": {
  "anaconda-cloud": {},
  "kernelspec": {
   "display_name": "Python 3",
   "language": "python",
   "name": "python3"
  },
  "language_info": {
   "codemirror_mode": {
    "name": "ipython",
    "version": 3
   },
   "file_extension": ".py",
   "mimetype": "text/x-python",
   "name": "python",
   "nbconvert_exporter": "python",
   "pygments_lexer": "ipython3",
   "version": "3.5.6"
  }
 },
 "nbformat": 4,
 "nbformat_minor": 1
}
