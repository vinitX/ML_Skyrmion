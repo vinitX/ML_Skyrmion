{
 "cells": [
  {
   "cell_type": "code",
   "execution_count": 1,
   "metadata": {},
   "outputs": [
    {
     "name": "stderr",
     "output_type": "stream",
     "text": [
      "Using TensorFlow backend.\n"
     ]
    }
   ],
   "source": [
    "import numpy as np # linear algebra\n",
    "import matplotlib.pyplot as plt\n",
    "import time\n",
    "%matplotlib inline\n",
    "import tensorflow\n",
    "#from sklearn.model_selection import train_test_split\n",
    "#from sklearn.metrics import confusion_matrix\n",
    "from keras.utils.np_utils import to_categorical # convert to one-hot-encoding\n",
    "from keras.models import Sequential\n",
    "from keras.layers import Dense, Dropout, Flatten, Conv2D, MaxPool2D, BatchNormalization\n",
    "from keras.layers.advanced_activations import LeakyReLU, PReLU\n",
    "from keras.optimizers import Adam\n",
    "#from keras.preprocessing.image import ImageDataGenerator\n",
    "from keras.callbacks import LearningRateScheduler\n",
    "#import pandas"
   ]
  },
  {
   "cell_type": "code",
   "execution_count": 2,
   "metadata": {},
   "outputs": [
    {
     "name": "stdout",
     "output_type": "stream",
     "text": [
      "129.45397329330444\n"
     ]
    }
   ],
   "source": [
    "t=time.time()\n",
    "train_data = np.array(list(np.loadtxt(\"train1.csv\", delimiter=\",\"))).astype(\"float32\")\n",
    "train_labels = np.array(list(np.loadtxt(\"train_label.csv\", delimiter=\",\"))).astype(\"float32\")\n",
    "eval_data = np.array(list(np.loadtxt(\"eval1.csv\", delimiter=\",\"))).astype(\"float32\")\n",
    "eval_labels = np.array(list(np.loadtxt(\"eval_label.csv\", delimiter=\",\"))).astype(\"float32\")\n",
    "\n",
    "#eval_data = pandas.read_csv(\"eval.csv\", delimiter=\",\",header=None,dtype='float32')\n",
    "#eval_labels = pandas.read_csv(\"eval_label.csv\", delimiter=\",\",header=None,dtype='float32')\n",
    "print(time.time()-t)"
   ]
  },
  {
   "cell_type": "code",
   "execution_count": 3,
   "metadata": {},
   "outputs": [
    {
     "name": "stdout",
     "output_type": "stream",
     "text": [
      "(20, 1728) (20, 4)\n",
      "0.516594648361206\n"
     ]
    }
   ],
   "source": [
    "t=time.time()\n",
    "test_data = np.array(list(np.loadtxt(\"PureH_test.csv\", delimiter=\",\"))).astype(\"float32\")\n",
    "test_labels = np.array(list(np.loadtxt(\"PureH_test_label.csv\", delimiter=\",\"))).astype(\"float32\")\n",
    "print(np.shape(test_data),np.shape(test_labels))\n",
    "print(time.time()-t)"
   ]
  },
  {
   "cell_type": "code",
   "execution_count": 4,
   "metadata": {},
   "outputs": [],
   "source": [
    "x_train = train_data.reshape(-1, 24,24,1)\n",
    "x_val = eval_data.reshape(-1, 24,24,1)\n",
    "x_test = np.reshape(test_data.reshape(-1, 24,24,3)[:,:,:,2],(-1,24,24,1))"
   ]
  },
  {
   "cell_type": "code",
   "execution_count": 5,
   "metadata": {},
   "outputs": [],
   "source": [
    "y_train=np.abs(np.reshape(train_labels,(-1,4)))\n",
    "y_val=np.abs(np.reshape(eval_labels,(-1,4)))\n",
    "y_test=np.abs(np.reshape(test_labels,(-1,4)))"
   ]
  },
  {
   "cell_type": "code",
   "execution_count": 6,
   "metadata": {},
   "outputs": [],
   "source": [
    "model = Sequential()\n",
    "\n",
    "model.add(Conv2D(filters = 16, kernel_size = (6, 6), activation='relu', input_shape = (24, 24, 1)))\n",
    "model.add(BatchNormalization())\n",
    "#model.add(Conv2D(filters = 16, kernel_size = (3, 3), activation='relu'))\n",
    "#model.add(BatchNormalization())\n",
    "#model.add(Conv2D(filters = 16, kernel_size = (3, 3), activation='relu'))\n",
    "#model.add(BatchNormalization())\n",
    "model.add(MaxPool2D(strides=(2,2)))\n",
    "model.add(Dropout(0.25))\n",
    "\n",
    "model.add(Conv2D(filters = 32, kernel_size = (3, 3), activation='relu'))\n",
    "model.add(BatchNormalization())\n",
    "#model.add(Conv2D(filters = 32, kernel_size = (3, 3), activation='relu'))\n",
    "#model.add(BatchNormalization())\n",
    "#model.add(Conv2D(filters = 32, kernel_size = (3, 3), activation='relu'))\n",
    "#model.add(BatchNormalization())\n",
    "model.add(MaxPool2D(strides=(2,2)))\n",
    "model.add(Dropout(0.25))\n",
    "\n",
    "model.add(Flatten())\n",
    "model.add(Dense(512, activation='linear'))\n",
    "model.add(LeakyReLU(alpha=.1))\n",
    "model.add(Dropout(0.25))\n",
    "\n",
    "model.add(Dense(1024, activation='linear'))\n",
    "model.add(LeakyReLU(alpha=.1))\n",
    "model.add(Dropout(0.5))\n",
    "\n",
    "model.add(Dense(4, activation='sigmoid'))"
   ]
  },
  {
   "cell_type": "code",
   "execution_count": 7,
   "metadata": {},
   "outputs": [],
   "source": [
    "model.compile(loss='mean_squared_error', optimizer = Adam(lr=1e-4))#, metrics=[\"accuracy\"]) #binary_crossentropy"
   ]
  },
  {
   "cell_type": "code",
   "execution_count": 8,
   "metadata": {},
   "outputs": [],
   "source": [
    "annealer = LearningRateScheduler(lambda x: 1e-3 * 0.9 ** x)"
   ]
  },
  {
   "cell_type": "code",
   "execution_count": 9,
   "metadata": {},
   "outputs": [
    {
     "name": "stdout",
     "output_type": "stream",
     "text": [
      "Train on 64000 samples, validate on 16000 samples\n",
      "Epoch 1/10\n",
      " - 65s - loss: 0.0197 - val_loss: 0.0064\n",
      "Epoch 2/10\n",
      " - 56s - loss: 0.0057 - val_loss: 0.0048\n",
      "Epoch 3/10\n",
      " - 93s - loss: 0.0048 - val_loss: 0.0033\n",
      "Epoch 4/10\n",
      " - 67s - loss: 0.0045 - val_loss: 0.0041\n",
      "Epoch 5/10\n",
      " - 75s - loss: 0.0042 - val_loss: 0.0035\n",
      "Epoch 6/10\n",
      " - 77s - loss: 0.0041 - val_loss: 0.0036\n",
      "Epoch 7/10\n",
      " - 96s - loss: 0.0039 - val_loss: 0.0041\n",
      "Epoch 8/10\n",
      " - 97s - loss: 0.0038 - val_loss: 0.0036\n",
      "Epoch 9/10\n",
      " - 118s - loss: 0.0038 - val_loss: 0.0031\n",
      "Epoch 10/10\n",
      " - 138s - loss: 0.0036 - val_loss: 0.0032\n"
     ]
    }
   ],
   "source": [
    "hist = model.fit(x=x_train, y=y_train, batch_size=512,\n",
    "                           epochs=10, #Increase this when not on Kaggle kernel\n",
    "                           verbose=2,  #1 for ETA, 0 for silent\n",
    "                           validation_data=(x_val, y_val), #For speed\n",
    "                           callbacks=[annealer])"
   ]
  },
  {
   "cell_type": "code",
   "execution_count": 10,
   "metadata": {},
   "outputs": [
    {
     "data": {
      "image/png": "[encoded data removed]",
      "text/plain": [
       "<Figure size 432x288 with 1 Axes>"
      ]
     },
     "metadata": {
      "needs_background": "light"
     },
     "output_type": "display_data"
    }
   ],
   "source": [
    "plt.plot(hist.history['loss'], color='b')\n",
    "plt.plot(hist.history['val_loss'], color='r')\n",
    "plt.show()"
   ]
  },
  {
   "cell_type": "code",
   "execution_count": 11,
   "metadata": {},
   "outputs": [],
   "source": [
    "y_hat = model.predict(x_val)"
   ]
  },
  {
   "cell_type": "code",
   "execution_count": 12,
   "metadata": {},
   "outputs": [
    {
     "data": {
      "text/plain": [
       "array([0.07043751, 0.03617762, 0.05250481, 0.06161695], dtype=float32)"
      ]
     },
     "execution_count": 12,
     "metadata": {},
     "output_type": "execute_result"
    }
   ],
   "source": [
    "(np.sum((y_val-y_hat)**2,axis=0)/(20*20*40))**0.5"
   ]
  },
  {
   "cell_type": "code",
   "execution_count": 13,
   "metadata": {},
   "outputs": [],
   "source": [
    "W=model.get_weights()"
   ]
  },
  {
   "cell_type": "code",
   "execution_count": 14,
   "metadata": {
    "scrolled": true
   },
   "outputs": [
    {
     "name": "stdout",
     "output_type": "stream",
     "text": [
      "{'name': 'conv2d_1', 'trainable': True, 'batch_input_shape': (None, 24, 24, 1), 'dtype': 'float32', 'filters': 16, 'kernel_size': (6, 6), 'strides': (1, 1), 'padding': 'valid', 'data_format': 'channels_last', 'dilation_rate': (1, 1), 'activation': 'relu', 'use_bias': True, 'kernel_initializer': {'class_name': 'VarianceScaling', 'config': {'scale': 1.0, 'mode': 'fan_avg', 'distribution': 'uniform', 'seed': None}}, 'bias_initializer': {'class_name': 'Zeros', 'config': {}}, 'kernel_regularizer': None, 'bias_regularizer': None, 'activity_regularizer': None, 'kernel_constraint': None, 'bias_constraint': None}\n",
      "(2,)\n",
      "{'name': 'batch_normalization_1', 'trainable': True, 'axis': -1, 'momentum': 0.99, 'epsilon': 0.001, 'center': True, 'scale': True, 'beta_initializer': {'class_name': 'Zeros', 'config': {}}, 'gamma_initializer': {'class_name': 'Ones', 'config': {}}, 'moving_mean_initializer': {'class_name': 'Zeros', 'config': {}}, 'moving_variance_initializer': {'class_name': 'Ones', 'config': {}}, 'beta_regularizer': None, 'gamma_regularizer': None, 'beta_constraint': None, 'gamma_constraint': None}\n",
      "(4, 16)\n",
      "{'name': 'max_pooling2d_1', 'trainable': True, 'pool_size': (2, 2), 'padding': 'valid', 'strides': (2, 2), 'data_format': 'channels_last'}\n",
      "(0,)\n",
      "{'name': 'dropout_1', 'trainable': True, 'rate': 0.25, 'noise_shape': None, 'seed': None}\n",
      "(0,)\n",
      "{'name': 'conv2d_2', 'trainable': True, 'filters': 32, 'kernel_size': (3, 3), 'strides': (1, 1), 'padding': 'valid', 'data_format': 'channels_last', 'dilation_rate': (1, 1), 'activation': 'relu', 'use_bias': True, 'kernel_initializer': {'class_name': 'VarianceScaling', 'config': {'scale': 1.0, 'mode': 'fan_avg', 'distribution': 'uniform', 'seed': None}}, 'bias_initializer': {'class_name': 'Zeros', 'config': {}}, 'kernel_regularizer': None, 'bias_regularizer': None, 'activity_regularizer': None, 'kernel_constraint': None, 'bias_constraint': None}\n",
      "(2,)\n",
      "{'name': 'batch_normalization_2', 'trainable': True, 'axis': -1, 'momentum': 0.99, 'epsilon': 0.001, 'center': True, 'scale': True, 'beta_initializer': {'class_name': 'Zeros', 'config': {}}, 'gamma_initializer': {'class_name': 'Ones', 'config': {}}, 'moving_mean_initializer': {'class_name': 'Zeros', 'config': {}}, 'moving_variance_initializer': {'class_name': 'Ones', 'config': {}}, 'beta_regularizer': None, 'gamma_regularizer': None, 'beta_constraint': None, 'gamma_constraint': None}\n",
      "(4, 32)\n",
      "{'name': 'max_pooling2d_2', 'trainable': True, 'pool_size': (2, 2), 'padding': 'valid', 'strides': (2, 2), 'data_format': 'channels_last'}\n",
      "(0,)\n",
      "{'name': 'dropout_2', 'trainable': True, 'rate': 0.25, 'noise_shape': None, 'seed': None}\n",
      "(0,)\n",
      "{'name': 'flatten_1', 'trainable': True, 'data_format': 'channels_last'}\n",
      "(0,)\n",
      "{'name': 'dense_1', 'trainable': True, 'units': 512, 'activation': 'linear', 'use_bias': True, 'kernel_initializer': {'class_name': 'VarianceScaling', 'config': {'scale': 1.0, 'mode': 'fan_avg', 'distribution': 'uniform', 'seed': None}}, 'bias_initializer': {'class_name': 'Zeros', 'config': {}}, 'kernel_regularizer': None, 'bias_regularizer': None, 'activity_regularizer': None, 'kernel_constraint': None, 'bias_constraint': None}\n",
      "(2,)\n",
      "{'name': 'leaky_re_lu_1', 'trainable': True, 'alpha': 0.10000000149011612}\n",
      "(0,)\n",
      "{'name': 'dropout_3', 'trainable': True, 'rate': 0.25, 'noise_shape': None, 'seed': None}\n",
      "(0,)\n",
      "{'name': 'dense_2', 'trainable': True, 'units': 1024, 'activation': 'linear', 'use_bias': True, 'kernel_initializer': {'class_name': 'VarianceScaling', 'config': {'scale': 1.0, 'mode': 'fan_avg', 'distribution': 'uniform', 'seed': None}}, 'bias_initializer': {'class_name': 'Zeros', 'config': {}}, 'kernel_regularizer': None, 'bias_regularizer': None, 'activity_regularizer': None, 'kernel_constraint': None, 'bias_constraint': None}\n",
      "(2,)\n",
      "{'name': 'leaky_re_lu_2', 'trainable': True, 'alpha': 0.10000000149011612}\n",
      "(0,)\n",
      "{'name': 'dropout_4', 'trainable': True, 'rate': 0.5, 'noise_shape': None, 'seed': None}\n",
      "(0,)\n",
      "{'name': 'dense_3', 'trainable': True, 'units': 4, 'activation': 'sigmoid', 'use_bias': True, 'kernel_initializer': {'class_name': 'VarianceScaling', 'config': {'scale': 1.0, 'mode': 'fan_avg', 'distribution': 'uniform', 'seed': None}}, 'bias_initializer': {'class_name': 'Zeros', 'config': {}}, 'kernel_regularizer': None, 'bias_regularizer': None, 'activity_regularizer': None, 'kernel_constraint': None, 'bias_constraint': None}\n",
      "(2,)\n"
     ]
    }
   ],
   "source": [
    "for layer in model.layers:\n",
    "    g=layer.get_config()\n",
    "    h=layer.get_weights()\n",
    "    print(g)\n",
    "    print(np.shape(h))"
   ]
  },
  {
   "cell_type": "code",
   "execution_count": 15,
   "metadata": {
    "scrolled": true
   },
   "outputs": [
    {
     "name": "stdout",
     "output_type": "stream",
     "text": [
      "(6, 6, 1, 16)\n",
      "(16,)\n",
      "(16,)\n",
      "(16,)\n",
      "(16,)\n",
      "(16,)\n",
      "(3, 3, 16, 32)\n",
      "(32,)\n",
      "(32,)\n",
      "(32,)\n",
      "(32,)\n",
      "(32,)\n",
      "(288, 512)\n",
      "(512,)\n",
      "(512, 1024)\n",
      "(1024,)\n",
      "(1024, 4)\n",
      "(4,)\n"
     ]
    }
   ],
   "source": [
    "for i in range(18):\n",
    "    print(np.shape(W[i]))"
   ]
  },
  {
   "cell_type": "code",
   "execution_count": 16,
   "metadata": {},
   "outputs": [
    {
     "data": {
      "image/png": "[encoded data removed]",
      "text/plain": [
       "<Figure size 432x288 with 1 Axes>"
      ]
     },
     "metadata": {
      "needs_background": "light"
     },
     "output_type": "display_data"
    }
   ],
   "source": [
    "plt.imshow(W[0][:,:,0,0])\n",
    "plt.show()"
   ]
  },
  {
   "cell_type": "code",
   "execution_count": 17,
   "metadata": {},
   "outputs": [],
   "source": [
    "np.savetxt('Weight.csv',np.reshape(W[0],(1,-1)),delimiter=',')"
   ]
  },
  {
   "cell_type": "code",
   "execution_count": 18,
   "metadata": {},
   "outputs": [],
   "source": [
    "from keras import backend as K\n",
    "\n",
    "inp = model.input                                           # input placeholder\n",
    "outputs = [layer.output for layer in model.layers]          # all layer outputs\n",
    "functors = [K.function([inp, K.learning_phase()], [out]) for out in outputs]    # evaluation functions"
   ]
  },
  {
   "cell_type": "code",
   "execution_count": 19,
   "metadata": {},
   "outputs": [
    {
     "name": "stdout",
     "output_type": "stream",
     "text": [
      "Tensor(\"batch_normalization_1/keras_learning_phase:0\", shape=(), dtype=bool)\n",
      "Tensor(\"conv2d_1/Relu:0\", shape=(?, 19, 19, 16), dtype=float32)\n",
      "Tensor(\"batch_normalization_1/cond/Merge:0\", shape=(?, 19, 19, 16), dtype=float32)\n",
      "Tensor(\"max_pooling2d_1/MaxPool:0\", shape=(?, 9, 9, 16), dtype=float32)\n",
      "Tensor(\"dropout_1/cond/Merge:0\", shape=(?, 9, 9, 16), dtype=float32)\n",
      "Tensor(\"conv2d_2/Relu:0\", shape=(?, 7, 7, 32), dtype=float32)\n",
      "Tensor(\"batch_normalization_2/cond/Merge:0\", shape=(?, 7, 7, 32), dtype=float32)\n",
      "Tensor(\"max_pooling2d_2/MaxPool:0\", shape=(?, 3, 3, 32), dtype=float32)\n",
      "Tensor(\"dropout_2/cond/Merge:0\", shape=(?, 3, 3, 32), dtype=float32)\n",
      "Tensor(\"flatten_1/Reshape:0\", shape=(?, ?), dtype=float32)\n",
      "Tensor(\"dense_1/BiasAdd:0\", shape=(?, 512), dtype=float32)\n",
      "Tensor(\"leaky_re_lu_1/LeakyRelu:0\", shape=(?, 512), dtype=float32)\n",
      "Tensor(\"dropout_3/cond/Merge:0\", shape=(?, 512), dtype=float32)\n",
      "Tensor(\"dense_2/BiasAdd:0\", shape=(?, 1024), dtype=float32)\n",
      "Tensor(\"leaky_re_lu_2/LeakyRelu:0\", shape=(?, 1024), dtype=float32)\n",
      "Tensor(\"dropout_4/cond/Merge:0\", shape=(?, 1024), dtype=float32)\n",
      "Tensor(\"dense_3/Sigmoid:0\", shape=(?, 4), dtype=float32)\n"
     ]
    }
   ],
   "source": [
    "print(K.learning_phase())\n",
    "for i in range(16):\n",
    "    print(outputs[i])"
   ]
  },
  {
   "cell_type": "code",
   "execution_count": 20,
   "metadata": {},
   "outputs": [],
   "source": [
    "# Testing\n",
    "test = x_test[0,:,:,:][np.newaxis,...]\n",
    "#test=np.random.rand(1,24,24,3)\n",
    "layer_outs = [func([test, 0]) for func in functors]\n",
    "#print(layer_outs)"
   ]
  },
  {
   "cell_type": "code",
   "execution_count": 21,
   "metadata": {},
   "outputs": [
    {
     "name": "stdout",
     "output_type": "stream",
     "text": [
      "(1, 1, 19, 19, 16)\n",
      "(1, 1, 19, 19, 16)\n",
      "(1, 1, 9, 9, 16)\n",
      "(1, 1, 9, 9, 16)\n",
      "(1, 1, 7, 7, 32)\n",
      "(1, 1, 7, 7, 32)\n",
      "(1, 1, 3, 3, 32)\n",
      "(1, 1, 3, 3, 32)\n",
      "(1, 1, 288)\n",
      "(1, 1, 512)\n",
      "(1, 1, 512)\n",
      "(1, 1, 512)\n",
      "(1, 1, 1024)\n",
      "(1, 1, 1024)\n",
      "(1, 1, 1024)\n",
      "(1, 1, 4)\n"
     ]
    }
   ],
   "source": [
    "for i in range(16):\n",
    "    print(np.shape(layer_outs[i]))\n",
    "    \n",
    "np.savetxt(\"Out_MFM1.csv\",np.reshape(layer_outs[1],-1),delimiter=',')\n",
    "np.savetxt(\"Out_MFM2.csv\",np.reshape(layer_outs[5],-1),delimiter=',')\n",
    "np.savetxt(\"Out_MFM3.csv\",np.reshape(layer_outs[8],-1),delimiter=',')\n",
    "np.savetxt(\"Out_MFM4.csv\",np.reshape(layer_outs[11],-1),delimiter=',')\n",
    "np.savetxt(\"Out_MFM5.csv\",np.reshape(layer_outs[14],-1),delimiter=',')"
   ]
  },
  {
   "cell_type": "code",
   "execution_count": 22,
   "metadata": {},
   "outputs": [
    {
     "name": "stdout",
     "output_type": "stream",
     "text": [
      "(1, 24, 24, 1)\n"
     ]
    },
    {
     "data": {
      "image/png": "[encoded data removed]",
      "text/plain": [
       "<Figure size 432x288 with 1 Axes>"
      ]
     },
     "metadata": {
      "needs_background": "light"
     },
     "output_type": "display_data"
    },
    {
     "name": "stdout",
     "output_type": "stream",
     "text": [
      "(1, 1, 19, 19, 16) 16.432995\n"
     ]
    },
    {
     "data": {
      "image/png": "[encoded data removed]",
      "text/plain": [
       "<Figure size 432x288 with 1 Axes>"
      ]
     },
     "metadata": {
      "needs_background": "light"
     },
     "output_type": "display_data"
    },
    {
     "name": "stdout",
     "output_type": "stream",
     "text": [
      "(1, 1, 19, 19, 16) 234.02863\n"
     ]
    },
    {
     "data": {
      "image/png": "[encoded data removed]",
      "text/plain": [
       "<Figure size 432x288 with 1 Axes>"
      ]
     },
     "metadata": {
      "needs_background": "light"
     },
     "output_type": "display_data"
    },
    {
     "name": "stdout",
     "output_type": "stream",
     "text": [
      "(1, 1, 9, 9, 16) 75.72714\n"
     ]
    },
    {
     "data": {
      "image/png": "[encoded data removed]",
      "text/plain": [
       "<Figure size 432x288 with 1 Axes>"
      ]
     },
     "metadata": {
      "needs_background": "light"
     },
     "output_type": "display_data"
    },
    {
     "name": "stdout",
     "output_type": "stream",
     "text": [
      "(1, 1, 9, 9, 16) 75.72714\n"
     ]
    },
    {
     "data": {
      "image/png": "[encoded data removed]",
      "text/plain": [
       "<Figure size 432x288 with 1 Axes>"
      ]
     },
     "metadata": {
      "needs_background": "light"
     },
     "output_type": "display_data"
    },
    {
     "name": "stdout",
     "output_type": "stream",
     "text": [
      "(1, 1, 7, 7, 32) 155.84712\n"
     ]
    },
    {
     "data": {
      "image/png": "[encoded data removed]",
      "text/plain": [
       "<Figure size 432x288 with 1 Axes>"
      ]
     },
     "metadata": {
      "needs_background": "light"
     },
     "output_type": "display_data"
    },
    {
     "name": "stdout",
     "output_type": "stream",
     "text": [
      "(1, 1, 7, 7, 32) 64.19071\n"
     ]
    },
    {
     "data": {
      "image/png": "[encoded data removed]",
      "text/plain": [
       "<Figure size 432x288 with 1 Axes>"
      ]
     },
     "metadata": {
      "needs_background": "light"
     },
     "output_type": "display_data"
    },
    {
     "name": "stdout",
     "output_type": "stream",
     "text": [
      "(1, 1, 3, 3, 32) 26.773947\n"
     ]
    },
    {
     "data": {
      "image/png": "[encoded data removed]",
      "text/plain": [
       "<Figure size 432x288 with 1 Axes>"
      ]
     },
     "metadata": {
      "needs_background": "light"
     },
     "output_type": "display_data"
    },
    {
     "name": "stdout",
     "output_type": "stream",
     "text": [
      "(1, 1, 3, 3, 32) 26.773947\n"
     ]
    },
    {
     "data": {
      "image/png": "[encoded data removed]",
      "text/plain": [
       "<Figure size 432x288 with 1 Axes>"
      ]
     },
     "metadata": {
      "needs_background": "light"
     },
     "output_type": "display_data"
    }
   ],
   "source": [
    "print(np.shape(test))\n",
    "plt.imshow(test[0,:,:,0])\n",
    "plt.show()\n",
    "for i in range(8):\n",
    "    print(np.shape(layer_outs[i]), np.sum(np.array(layer_outs[i])[0,0,:,:,0]))\n",
    "    plt.imshow(np.array(layer_outs[i])[0,0,:,:,0])\n",
    "    plt.show()\n",
    "    \n"
   ]
  },
  {
   "cell_type": "code",
   "execution_count": 23,
   "metadata": {
    "scrolled": true
   },
   "outputs": [
    {
     "data": {
      "image/png": "[encoded data removed]",
      "text/plain": [
       "<Figure size 432x288 with 1 Axes>"
      ]
     },
     "metadata": {
      "needs_background": "light"
     },
     "output_type": "display_data"
    },
    {
     "data": {
      "image/png": "[encoded data removed]",
      "text/plain": [
       "<Figure size 432x288 with 1 Axes>"
      ]
     },
     "metadata": {
      "needs_background": "light"
     },
     "output_type": "display_data"
    },
    {
     "data": {
      "image/png": "[encoded data removed]",
      "text/plain": [
       "<Figure size 432x288 with 1 Axes>"
      ]
     },
     "metadata": {
      "needs_background": "light"
     },
     "output_type": "display_data"
    },
    {
     "data": {
      "image/png": "[encoded data removed]",
      "text/plain": [
       "<Figure size 432x288 with 1 Axes>"
      ]
     },
     "metadata": {
      "needs_background": "light"
     },
     "output_type": "display_data"
    },
    {
     "data": {
      "image/png": "[encoded data removed]",
      "text/plain": [
       "<Figure size 432x288 with 1 Axes>"
      ]
     },
     "metadata": {
      "needs_background": "light"
     },
     "output_type": "display_data"
    },
    {
     "data": {
      "image/png": "[encoded data removed]",
      "text/plain": [
       "<Figure size 432x288 with 1 Axes>"
      ]
     },
     "metadata": {
      "needs_background": "light"
     },
     "output_type": "display_data"
    },
    {
     "data": {
      "image/png": "[encoded data removed]",
      "text/plain": [
       "<Figure size 432x288 with 1 Axes>"
      ]
     },
     "metadata": {
      "needs_background": "light"
     },
     "output_type": "display_data"
    },
    {
     "name": "stdout",
     "output_type": "stream",
     "text": [
      "[0.00113574 0.03603848 0.10869859 0.09034824]\n"
     ]
    }
   ],
   "source": [
    "for i in range(8,15):\n",
    "    plt.plot(np.sort(np.array(layer_outs[i])[0,0,:]))\n",
    "    plt.show()\n",
    "print(np.array(layer_outs[15])[0,0,:])"
   ]
  },
  {
   "cell_type": "code",
   "execution_count": 24,
   "metadata": {},
   "outputs": [
    {
     "name": "stdout",
     "output_type": "stream",
     "text": [
      "Tensor(\"batch_normalization_1/keras_learning_phase:0\", shape=(), dtype=bool)\n"
     ]
    }
   ],
   "source": [
    "print(K.learning_phase())"
   ]
  },
  {
   "cell_type": "code",
   "execution_count": null,
   "metadata": {},
   "outputs": [],
   "source": []
  },
  {
   "cell_type": "code",
   "execution_count": null,
   "metadata": {},
   "outputs": [],
   "source": []
  }
 ],
 "metadata": {
  "kernelspec": {
   "display_name": "Python (tensorflow)",
   "language": "python",
   "name": "tensorflow"
  },
  "language_info": {
   "codemirror_mode": {
    "name": "ipython",
    "version": 3
   },
   "file_extension": ".py",
   "mimetype": "text/x-python",
   "name": "python",
   "nbconvert_exporter": "python",
   "pygments_lexer": "ipython3",
   "version": "3.6.7"
  }
 },
 "nbformat": 4,
 "nbformat_minor": 2
}
