{
 "cells": [
  {
   "cell_type": "code",
   "execution_count": null,
   "metadata": {
    "collapsed": true
   },
   "outputs": [],
   "source": [
    "import numpy as np   \n",
    "f=open('train.csv','ab')\n",
    "g=open('eval.csv','ab')\n",
    "h=open('test.csv','ab')\n",
    "fl=open('train_label.csv','ab')\n",
    "gl=open('eval_label.csv','ab')\n",
    "al=[]\n",
    "bl=[]\n",
    "for i in range(0,10):\n",
    "    if i==3 or i==7:\n",
    "        for j in range(0,501):\n",
    "            filename_a=\"chi\"+str(i)+\"_\"+str(j)+\".txt\"\n",
    "            a=np.loadtxt(filename_a)\n",
    "            a=np.reshape(a,(1,len(a)))\n",
    "            np.savetxt(h,a,delimiter=',')\n",
    "        \n",
    "    for j in range(0,501):\n",
    "        filename_a=\"chi\"+str(i)+\"_\"+str(j)+\".txt\"\n",
    "        a=np.loadtxt(filename_a)\n",
    "        a=np.reshape(a,(1,len(a)))\n",
    "        if j<400:\n",
    "            np.savetxt(f,a,delimiter=',')\n",
    "            if i<3: al.append(0) #spiral\n",
    "            elif i<7: al.append(1) #skyrmion\n",
    "            else: al.append(2) #Ferromagnet\n",
    "        else:\n",
    "            np.savetxt(g,c,delimiter=',')\n",
    "            if i<3: bl.append(0) #spiral\n",
    "            elif i<7: bl.append(1) #skyrmion\n",
    "            else: bl.append(2) #Ferromagnet\n",
    "\n",
    "al=np.reshape(al,(1,len(al)))\n",
    "bl=np.reshape(bl,(1,len(bl)))\n",
    "np.savetxt(fl,al,delimiter=',')\n",
    "np.savetxt(gl,bl,delimiter=',')\n",
    "print(np.shape(a),np.shape(b),np.shape(c))\n",
    "f.close()   \n",
    "g.close()\n",
    "fl.close()\n",
    "gl.close()"
   ]
  }
 ],
 "metadata": {
  "kernelspec": {
   "display_name": "Python [Anaconda3]",
   "language": "python",
   "name": "Python [Anaconda3]"
  },
  "language_info": {
   "codemirror_mode": {
    "name": "ipython",
    "version": 3
   },
   "file_extension": ".py",
   "mimetype": "text/x-python",
   "name": "python",
   "nbconvert_exporter": "python",
   "pygments_lexer": "ipython3",
   "version": "3.5.2"
  }
 },
 "nbformat": 4,
 "nbformat_minor": 0
}
