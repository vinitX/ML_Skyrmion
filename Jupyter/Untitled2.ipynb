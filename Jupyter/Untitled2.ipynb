{
 "cells": [
  {
   "cell_type": "code",
   "execution_count": 1,
   "metadata": {
    "collapsed": false
   },
   "outputs": [
    {
     "data": {
      "text/plain": [
       "\"\\na=np.loadtxt('y_hat2_1.csv',delimiter=',')\\na=np.reshape(a[:,1],(20,20))\\nx=np.arange(0,1,0.05)\\ny=a[:10,19]\\nx=x[:10]\\n\\nm=np.sum(x*y)/np.sum(x*x)\\nplt.scatter(x,y)\\nplt.plot(x,m*x)\\nplt.show()\\nprint(m)\\n\""
      ]
     },
     "execution_count": 1,
     "metadata": {},
     "output_type": "execute_result"
    }
   ],
   "source": [
    "import numpy as np\n",
    "import matplotlib.pyplot as plt\n",
    "import random\n",
    "import scipy.stats as sp"
   ]
  },
  {
   "cell_type": "code",
   "execution_count": 47,
   "metadata": {
    "collapsed": false
   },
   "outputs": [
    {
     "name": "stdout",
     "output_type": "stream",
     "text": [
      "1.7717080333016137 0.053034820339895816\n"
     ]
    }
   ],
   "source": [
    "filename='y_hat0_0.csv'\n",
    "a=np.loadtxt(filename,delimiter=',')\n",
    "a=np.reshape(a[:,2],(20,20))*4\n",
    "x=np.arange(0,4,0.2)\n",
    "y=a[:,19]\n",
    "x=x[:]\n",
    "\n",
    "m=np.sum(x*y)/np.sum(x*x)\n",
    "plt.plot(x,m*x)\n",
    "plt.plot(x,y)\n",
    "\n",
    "for k in np.arange(0.5,2.1,0.5):\n",
    "    p=1.0\n",
    "    filename='y_hat'+str(k)+'_'+str(p)+'.csv'\n",
    "    a=np.loadtxt(filename,delimiter=',')\n",
    "    a=np.reshape(a[:,1],(20,20))*4\n",
    "    x=np.arange(0,4,0.2)\n",
    "    y=a[:,19]\n",
    "    x=x[:]\n",
    "    plt.plot(x,y)\n",
    "\n",
    "filename='y_hat2.0_1.0.csv'\n",
    "a=np.loadtxt(filename,delimiter=',')\n",
    "a=np.reshape(a[:,2],(20,20))*4\n",
    "x=np.arange(0,4,0.2)\n",
    "y=a[:11,19]\n",
    "x=x[:11]\n",
    "m,c,a,b,d=sp.linregress(x,y)\n",
    "\n",
    "x=np.arange(0,2.3,0.2)\n",
    "plt.plot(x,m*x+c)\n",
    "\n",
    "plt.legend(['Ref.','K=0','K=0.5', 'K=1.0', 'K=1.5', 'K=2.0'])\n",
    "plt.title('4(a)')\n",
    "plt.xlabel('Actual B')\n",
    "plt.ylabel('Predicted B')\n",
    "plt.show()\n",
    "print(m,c)"
   ]
  },
  {
   "cell_type": "code",
   "execution_count": 44,
   "metadata": {
    "collapsed": false
   },
   "outputs": [
    {
     "name": "stdout",
     "output_type": "stream",
     "text": [
      "0.14373999999999998 1.0290000000000001 0.9627670858644898 0.008575983303691612 0.02330202566301909\n",
      "0.17240000000000003 1.0178\n",
      "0.36780000000000007 1.0050999999999999 0.9824015108318945 0.0027950988271856873 0.04037342360183655\n",
      "0.39339999999999997 0.9984 0.982411599653697 0.002792699870692852 0.04317082348067954\n"
     ]
    }
   ],
   "source": [
    "x=np.array([0,0.5,1,1.5,2])\n",
    "y=np.array([1.038,1.125,1.130,1.2217,1.349])\n",
    "plt.figure()\n",
    "plt.scatter(x,y)\n",
    "m,c,a,b,d=sp.linregress(x,y)\n",
    "print(m,c,a,b,d)\n",
    "plt.plot(x,m*x+c)\n",
    "\n",
    "\n",
    "x=np.array([0,0.5,1,1.5,2])\n",
    "y=np.array([1.038,1.117,1.144,1.249,1.403])\n",
    "plt.scatter(x,y)\n",
    "m,c,a,b,d=sp.linregress(x,y)\n",
    "print(m,c)\n",
    "plt.plot(x,m*x+c)\n",
    "\n",
    "x=np.array([0,0.5,1,1.5,2])\n",
    "y=np.array([1.038,1.199,1.323,1.495,1.8095])\n",
    "plt.scatter(x,y)\n",
    "m,c,a,b,d=sp.linregress(x,y)\n",
    "print(m,c,a,b,d)\n",
    "plt.plot(x,m*x+c)\n",
    "\n",
    "x=np.array([0,0.5,1,1.5,2])\n",
    "y=np.array([1.038,1.199,1.339,1.524,1.859])\n",
    "plt.scatter(x,y)\n",
    "m,c,a,b,d=sp.linregress(x,y)\n",
    "print(m,c,a,b,d)\n",
    "plt.plot(x,m*x+c)\n",
    "\n",
    "plt.legend(['B (p=0.5)','m (p=0.5)', 'B (p=1.0)', 'm (p=1.0)'])\n",
    "plt.title('4(b)')\n",
    "plt.xlabel('K')\n",
    "plt.ylabel('S')\n",
    "plt.show()"
   ]
  },
  {
   "cell_type": "code",
   "execution_count": null,
   "metadata": {
    "collapsed": true
   },
   "outputs": [],
   "source": []
  }
 ],
 "metadata": {
  "kernelspec": {
   "display_name": "Python [Anaconda3]",
   "language": "python",
   "name": "Python [Anaconda3]"
  },
  "language_info": {
   "codemirror_mode": {
    "name": "ipython",
    "version": 3
   },
   "file_extension": ".py",
   "mimetype": "text/x-python",
   "name": "python",
   "nbconvert_exporter": "python",
   "pygments_lexer": "ipython3",
   "version": "3.5.2"
  }
 },
 "nbformat": 4,
 "nbformat_minor": 0
}
