{
 "cells": [
  {
   "cell_type": "code",
   "execution_count": 1,
   "metadata": {
    "collapsed": false
   },
   "outputs": [
    {
     "name": "stderr",
     "output_type": "stream",
     "text": [
      "C:\\Users\\Skinny\\Anaconda3\\lib\\site-packages\\h5py\\__init__.py:36: FutureWarning: Conversion of the second argument of issubdtype from `float` to `np.floating` is deprecated. In future, it will be treated as `np.float64 == np.dtype(float).type`.\n",
      "  from ._conv import register_converters as _register_converters\n",
      "Using TensorFlow backend.\n"
     ]
    }
   ],
   "source": [
    "import numpy as np # linear algebra\n",
    "import matplotlib.pyplot as plt\n",
    "%matplotlib inline\n",
    "from sklearn.model_selection import train_test_split\n",
    "from sklearn.metrics import confusion_matrix\n",
    "from keras.utils.np_utils import to_categorical # convert to one-hot-encoding\n",
    "from keras.models import Sequential\n",
    "from keras.layers import Dense, Dropout, Flatten, Conv2D, MaxPool2D, BatchNormalization\n",
    "from keras.optimizers import Adam\n",
    "from keras.preprocessing.image import ImageDataGenerator\n",
    "from keras.callbacks import LearningRateScheduler"
   ]
  },
  {
   "cell_type": "code",
   "execution_count": 2,
   "metadata": {
    "collapsed": false
   },
   "outputs": [
    {
     "name": "stdout",
     "output_type": "stream",
     "text": [
      "[1. 0. 0.]\n"
     ]
    }
   ],
   "source": [
    "train_data = np.array(list(np.loadtxt(\"train1.csv\", delimiter=\",\"))).astype(\"float32\")\n",
    "train_labels = np.array(list(np.loadtxt(\"train_label2.csv\", delimiter=\",\"))).astype(\"int\")\n",
    "eval_data = np.array(list(np.loadtxt(\"eval1.csv\", delimiter=\",\"))).astype(\"float32\")\n",
    "eval_labels = np.array(list(np.loadtxt(\"eval_label2.csv\", delimiter=\",\"))).astype(\"int\")\n",
    "\n",
    "x_train = train_data.reshape(-1, 24, 24, 1)\n",
    "x_val = eval_data.reshape(-1, 24, 24, 1)\n",
    "\n",
    "y_train = to_categorical(train_labels)\n",
    "y_val = to_categorical(eval_labels)\n",
    "\n",
    "print(y_train[0])"
   ]
  },
  {
   "cell_type": "code",
   "execution_count": 3,
   "metadata": {
    "collapsed": false
   },
   "outputs": [],
   "source": [
    "model = Sequential()\n",
    "\n",
    "model.add(Flatten(input_shape = (24, 24, 1)))\n",
    "model.add(Dense(64, activation='relu'))\n",
    "model.add(Dense(3, activation='softmax'))"
   ]
  },
  {
   "cell_type": "code",
   "execution_count": 4,
   "metadata": {
    "collapsed": true
   },
   "outputs": [],
   "source": [
    "datagen = ImageDataGenerator(zoom_range = 0.1,\n",
    "                            height_shift_range = 0.1,\n",
    "                            width_shift_range = 0.1,\n",
    "                            rotation_range = 10)"
   ]
  },
  {
   "cell_type": "code",
   "execution_count": 5,
   "metadata": {
    "collapsed": true
   },
   "outputs": [],
   "source": [
    "model.compile(loss='categorical_crossentropy', optimizer = Adam(lr=1e-4), metrics=[\"accuracy\"])"
   ]
  },
  {
   "cell_type": "code",
   "execution_count": 6,
   "metadata": {
    "collapsed": true
   },
   "outputs": [],
   "source": [
    "annealer = LearningRateScheduler(lambda x: 1e-3 * 0.9 ** x)"
   ]
  },
  {
   "cell_type": "code",
   "execution_count": 7,
   "metadata": {
    "collapsed": false
   },
   "outputs": [
    {
     "name": "stdout",
     "output_type": "stream",
     "text": [
      "Epoch 1/20\n",
      " - 19s - loss: 0.1391 - acc: 0.9579 - val_loss: 0.0352 - val_acc: 0.9827\n",
      "Epoch 2/20\n",
      " - 2s - loss: 0.0261 - acc: 0.9928 - val_loss: 0.0215 - val_acc: 0.9913\n",
      "Epoch 3/20\n",
      " - 2s - loss: 0.0194 - acc: 0.9940 - val_loss: 0.0013 - val_acc: 1.0000\n",
      "Epoch 4/20\n",
      " - 2s - loss: 0.0144 - acc: 0.9955 - val_loss: 0.0118 - val_acc: 0.9975\n",
      "Epoch 5/20\n",
      " - 2s - loss: 0.0093 - acc: 0.9979 - val_loss: 0.0057 - val_acc: 0.9988\n",
      "Epoch 6/20\n",
      " - 2s - loss: 0.0063 - acc: 0.9986 - val_loss: 6.1994e-04 - val_acc: 1.0000\n",
      "Epoch 7/20\n",
      " - 2s - loss: 0.0084 - acc: 0.9976 - val_loss: 0.0018 - val_acc: 1.0000\n",
      "Epoch 8/20\n",
      " - 2s - loss: 0.0035 - acc: 0.9991 - val_loss: 0.0040 - val_acc: 0.9988\n",
      "Epoch 9/20\n",
      " - 2s - loss: 0.0035 - acc: 0.9993 - val_loss: 0.0026 - val_acc: 1.0000\n",
      "Epoch 10/20\n",
      " - 2s - loss: 0.0041 - acc: 0.9995 - val_loss: 0.0062 - val_acc: 0.9988\n",
      "Epoch 11/20\n",
      " - 2s - loss: 0.0029 - acc: 0.9996 - val_loss: 0.0019 - val_acc: 1.0000\n",
      "Epoch 12/20\n",
      " - 3s - loss: 0.0019 - acc: 0.9996 - val_loss: 1.7864e-04 - val_acc: 1.0000\n",
      "Epoch 13/20\n",
      " - 3s - loss: 0.0023 - acc: 0.9993 - val_loss: 8.1141e-05 - val_acc: 1.0000\n",
      "Epoch 14/20\n",
      " - 2s - loss: 0.0014 - acc: 0.9998 - val_loss: 0.0012 - val_acc: 1.0000\n",
      "Epoch 15/20\n",
      " - 2s - loss: 9.7366e-04 - acc: 0.9999 - val_loss: 0.0011 - val_acc: 1.0000\n",
      "Epoch 16/20\n",
      " - 2s - loss: 0.0015 - acc: 0.9995 - val_loss: 0.0012 - val_acc: 1.0000\n",
      "Epoch 17/20\n",
      " - 2s - loss: 0.0020 - acc: 0.9994 - val_loss: 5.9582e-04 - val_acc: 1.0000\n",
      "Epoch 18/20\n",
      " - 2s - loss: 8.5134e-04 - acc: 0.9999 - val_loss: 8.5070e-04 - val_acc: 1.0000\n",
      "Epoch 19/20\n",
      " - 2s - loss: 9.7654e-04 - acc: 0.9999 - val_loss: 3.8072e-04 - val_acc: 1.0000\n",
      "Epoch 20/20\n",
      " - 2s - loss: 0.0012 - acc: 0.9999 - val_loss: 0.0017 - val_acc: 1.0000\n"
     ]
    }
   ],
   "source": [
    "hist = model.fit_generator(datagen.flow(x_train, y_train, batch_size=16),\n",
    "                           steps_per_epoch=500,\n",
    "                           epochs=20, #Increase this when not on Kaggle kernel\n",
    "                           verbose=2,  #1 for ETA, 0 for silent\n",
    "                           validation_data=(x_val[:,:,:], y_val[:,:]), #For speed\n",
    "                           callbacks=[annealer])"
   ]
  },
  {
   "cell_type": "code",
   "execution_count": 8,
   "metadata": {
    "collapsed": false
   },
   "outputs": [
    {
     "name": "stdout",
     "output_type": "stream",
     "text": [
      "Final loss: 0.0017, final accuracy: 1.0000\n"
     ]
    }
   ],
   "source": [
    "final_loss, final_acc = model.evaluate(x_val, y_val, verbose=0)\n",
    "print(\"Final loss: {0:.4f}, final accuracy: {1:.4f}\".format(final_loss, final_acc))"
   ]
  },
  {
   "cell_type": "code",
   "execution_count": 9,
   "metadata": {
    "collapsed": false
   },
   "outputs": [
    {
     "data": {
      "image/png": "[encoded data removed]",
      "text/plain": [
       "<Figure size 600x400 with 1 Axes>"
      ]
     },
     "metadata": {},
     "output_type": "display_data"
    },
    {
     "data": {
      "image/png": "[encoded data removed]",
      "text/plain": [
       "<Figure size 600x400 with 1 Axes>"
      ]
     },
     "metadata": {},
     "output_type": "display_data"
    }
   ],
   "source": [
    "plt.plot(hist.history['loss'], color='b')\n",
    "plt.plot(hist.history['val_loss'], color='r')\n",
    "plt.show()\n",
    "plt.plot(hist.history['acc'], color='b')\n",
    "plt.plot(hist.history['val_acc'], color='r')\n",
    "plt.show()"
   ]
  },
  {
   "cell_type": "code",
   "execution_count": 10,
   "metadata": {
    "collapsed": false
   },
   "outputs": [
    {
     "name": "stdout",
     "output_type": "stream",
     "text": [
      "(808, 3)\n",
      "[[303   0   0]\n",
      " [  0 303   0]\n",
      " [  0   0 202]]\n"
     ]
    }
   ],
   "source": [
    "y_hat = model.predict(x_val)\n",
    "print(np.shape(y_hat))\n",
    "y_pred = np.argmax(y_hat, axis=1)\n",
    "y_true = np.argmax(y_val, axis=1)\n",
    "cm = confusion_matrix(y_true, y_pred)\n",
    "print(cm)"
   ]
  },
  {
   "cell_type": "code",
   "execution_count": 11,
   "metadata": {
    "collapsed": false
   },
   "outputs": [],
   "source": [
    "mnist_testset = np.loadtxt('test1.csv', delimiter=',')\n",
    "x_test = mnist_testset.astype(\"float32\")\n",
    "x_test = x_test.reshape(-1, 24, 24, 1)"
   ]
  },
  {
   "cell_type": "code",
   "execution_count": 12,
   "metadata": {
    "collapsed": false
   },
   "outputs": [],
   "source": [
    "y_hat = model.predict(x_test, batch_size=64)"
   ]
  },
  {
   "cell_type": "code",
   "execution_count": 13,
   "metadata": {
    "collapsed": false
   },
   "outputs": [
    {
     "name": "stdout",
     "output_type": "stream",
     "text": [
      "(5400, 3)\n"
     ]
    }
   ],
   "source": [
    "y_pred = np.argmax(y_hat,axis=1)\n",
    "print(np.shape(y_hat))"
   ]
  },
  {
   "cell_type": "code",
   "execution_count": 21,
   "metadata": {
    "collapsed": false
   },
   "outputs": [
    {
     "name": "stdout",
     "output_type": "stream",
     "text": [
      "[100 100 100 ...   0   0   0]\n"
     ]
    },
    {
     "data": {
      "image/png": "[encoded data removed]",
      "text/plain": [
       "<Figure size 600x400 with 1 Axes>"
      ]
     },
     "metadata": {},
     "output_type": "display_data"
    }
   ],
   "source": [
    "p=np.array(100*y_hat,dtype=int)\n",
    "print(p[:,0])\n",
    "plt.plot(p[:,0],color='r')\n",
    "\n",
    "plt.show()"
   ]
  },
  {
   "cell_type": "code",
   "execution_count": null,
   "metadata": {
    "collapsed": true
   },
   "outputs": [],
   "source": []
  }
 ],
 "metadata": {
  "anaconda-cloud": {},
  "kernelspec": {
   "display_name": "Python [Anaconda3]",
   "language": "python",
   "name": "Python [Anaconda3]"
  },
  "language_info": {
   "codemirror_mode": {
    "name": "ipython",
    "version": 3
   },
   "file_extension": ".py",
   "mimetype": "text/x-python",
   "name": "python",
   "nbconvert_exporter": "python",
   "pygments_lexer": "ipython3",
   "version": "3.5.2"
  }
 },
 "nbformat": 4,
 "nbformat_minor": 0
}
