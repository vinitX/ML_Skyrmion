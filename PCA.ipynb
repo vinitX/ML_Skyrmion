{
 "cells": [
  {
   "cell_type": "code",
   "execution_count": 172,
   "metadata": {
    "collapsed": true
   },
   "outputs": [],
   "source": [
    "import numpy as np\n",
    "import matplotlib.pyplot as plt\n",
    "from mpl_toolkits.mplot3d import Axes3D\n",
    "\n",
    "X = np.array(list(np.loadtxt(\"train.csv\", delimiter=\",\"))).astype(\"float\")\n",
    "X=X[:237,:]\n",
    "X_=np.matrix.transpose(X)"
   ]
  },
  {
   "cell_type": "code",
   "execution_count": 173,
   "metadata": {
    "collapsed": true
   },
   "outputs": [],
   "source": [
    "lambd,W=np.linalg.eig(np.matmul(X_,X))"
   ]
  },
  {
   "cell_type": "code",
   "execution_count": 174,
   "metadata": {
    "collapsed": false
   },
   "outputs": [
    {
     "name": "stdout",
     "output_type": "stream",
     "text": [
      "[ 1.30395593e+06+0.00000000e+00j  9.40004657e+04+0.00000000e+00j\n",
      "  2.41131040e+04+0.00000000e+00j ... -4.37485316e-14-5.13597477e-14j\n",
      "  4.01273695e-14+1.62956801e-14j  4.01273695e-14-1.62956801e-14j]\n"
     ]
    }
   ],
   "source": [
    "print(lambd)"
   ]
  },
  {
   "cell_type": "code",
   "execution_count": 175,
   "metadata": {
    "collapsed": false
   },
   "outputs": [
    {
     "data": {
      "text/plain": [
       "(1152,)"
      ]
     },
     "execution_count": 175,
     "metadata": {},
     "output_type": "execute_result"
    }
   ],
   "source": [
    "np.shape(np.abs(lambd))"
   ]
  },
  {
   "cell_type": "code",
   "execution_count": 176,
   "metadata": {
    "collapsed": false
   },
   "outputs": [],
   "source": [
    "plt.plot(np.log(np.abs(np.sort(lambd))))\n",
    "plt.xlabel('l')\n",
    "plt.ylabel('|log(lambda(l))|')\n",
    "plt.show()"
   ]
  },
  {
   "cell_type": "code",
   "execution_count": 177,
   "metadata": {
    "collapsed": false
   },
   "outputs": [
    {
     "name": "stdout",
     "output_type": "stream",
     "text": [
      "(3, 1152)\n"
     ]
    }
   ],
   "source": [
    "pc=np.sort(lambd)\n",
    "pc=pc[-3:]\n",
    "pcv=np.zeros((3,1152))\n",
    "for i in range(3):\n",
    "    pcv[i,:]=np.abs(W[np.where(pc==pc[i]),:])\n",
    "print(np.shape(pcv))"
   ]
  },
  {
   "cell_type": "code",
   "execution_count": 178,
   "metadata": {
    "collapsed": false
   },
   "outputs": [],
   "source": [
    "Y=np.zeros((3,np.shape(X)[0]))\n",
    "for i in range(3):\n",
    "    Y[i,:]=np.matmul(X,pcv[i,:])"
   ]
  },
  {
   "cell_type": "code",
   "execution_count": 179,
   "metadata": {
    "collapsed": true
   },
   "outputs": [],
   "source": [
    "fig = plt.figure()\n",
    "ax = fig.add_subplot(111, projection='3d')\n",
    "\n",
    "ax.scatter(Y[0,:], Y[1,:], Y[2,:], c='r', marker='o')\n",
    "\n",
    "ax.set_xlabel('X Label')\n",
    "ax.set_ylabel('Y Label')\n",
    "ax.set_zlabel('Z Label')\n",
    "\n",
    "plt.show()"
   ]
  },
  {
   "cell_type": "code",
   "execution_count": null,
   "metadata": {
    "collapsed": true
   },
   "outputs": [],
   "source": []
  }
 ],
 "metadata": {
  "kernelspec": {
   "display_name": "Python [Anaconda3]",
   "language": "python",
   "name": "Python [Anaconda3]"
  },
  "language_info": {
   "codemirror_mode": {
    "name": "ipython",
    "version": 3
   },
   "file_extension": ".py",
   "mimetype": "text/x-python",
   "name": "python",
   "nbconvert_exporter": "python",
   "pygments_lexer": "ipython3",
   "version": "3.5.2"
  }
 },
 "nbformat": 4,
 "nbformat_minor": 0
}
