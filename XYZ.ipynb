{
 "cells": [
  {
   "cell_type": "code",
   "execution_count": 5,
   "metadata": {},
   "outputs": [],
   "source": [
    "import numpy as np # linear algebra\n",
    "import matplotlib.pyplot as plt\n",
    "import time\n",
    "%matplotlib inline\n",
    "import tensorflow\n",
    "#from sklearn.model_selection import train_test_split\n",
    "#from sklearn.metrics import confusion_matrix\n",
    "from keras.utils.np_utils import to_categorical # convert to one-hot-encoding\n",
    "from keras.models import Sequential\n",
    "from keras.layers import Dense, Dropout, Flatten, Conv2D, MaxPool2D, BatchNormalization\n",
    "from keras.layers.advanced_activations import LeakyReLU, PReLU\n",
    "from keras.optimizers import Adam\n",
    "#from keras.preprocessing.image import ImageDataGenerator\n",
    "from keras.callbacks import LearningRateScheduler\n",
    "#import pandas"
   ]
  },
  {
   "cell_type": "code",
   "execution_count": 6,
   "metadata": {},
   "outputs": [
    {
     "name": "stdout",
     "output_type": "stream",
     "text": [
      "759.0552453994751\n"
     ]
    }
   ],
   "source": [
    "t=time.time()\n",
    "train_data = np.array(list(np.loadtxt(\"train.csv\", delimiter=\",\"))).astype(\"float32\")\n",
    "train_labels = np.array(list(np.loadtxt(\"train_label.csv\", delimiter=\",\"))).astype(\"float32\")\n",
    "eval_data = np.array(list(np.loadtxt(\"eval.csv\", delimiter=\",\"))).astype(\"float32\")\n",
    "eval_labels = np.array(list(np.loadtxt(\"eval_label.csv\", delimiter=\",\"))).astype(\"float32\")\n",
    "\n",
    "#eval_data = pandas.read_csv(\"eval.csv\", delimiter=\",\",header=None,dtype='float32')\n",
    "#eval_labels = pandas.read_csv(\"eval_label.csv\", delimiter=\",\",header=None,dtype='float32')\n",
    "print(time.time()-t)"
   ]
  },
  {
   "cell_type": "code",
   "execution_count": 7,
   "metadata": {},
   "outputs": [
    {
     "name": "stdout",
     "output_type": "stream",
     "text": [
      "(20, 1728) (20, 4)\n",
      "0.3171508312225342\n"
     ]
    }
   ],
   "source": [
    "t=time.time()\n",
    "test_data = np.array(list(np.loadtxt(\"PureH_test.csv\", delimiter=\",\"))).astype(\"float32\")\n",
    "test_labels = np.array(list(np.loadtxt(\"PureH_test_label.csv\", delimiter=\",\"))).astype(\"float32\")\n",
    "print(np.shape(test_data),np.shape(test_labels))\n",
    "print(time.time()-t)"
   ]
  },
  {
   "cell_type": "code",
   "execution_count": 8,
   "metadata": {},
   "outputs": [
    {
     "data": {
      "image/png": "[encoded data removed]",
      "text/plain": [
       "<Figure size 432x288 with 1 Axes>"
      ]
     },
     "metadata": {
      "needs_background": "light"
     },
     "output_type": "display_data"
    },
    {
     "name": "stdout",
     "output_type": "stream",
     "text": [
      "1.0208333\n",
      "[1.        0.9875887 0.95      1.       ] [0.9693878  0.98738945 0.95       1.        ] [0.93877566 0.9973939  0.95       1.        ]\n",
      "(64000, 4) (64000, 24, 24, 3)\n"
     ]
    }
   ],
   "source": [
    "x_train = train_data.reshape(-1, 24,24,3)\n",
    "x_val = eval_data.reshape(-1, 24,24,3)\n",
    "x_test = test_data.reshape(-1, 24,24,3)\n",
    "\n",
    "y_train=np.abs(np.reshape(train_labels,(-1,4)))\n",
    "y_val=np.abs(np.reshape(eval_labels,(-1,4)))\n",
    "y_test=np.abs(np.reshape(test_labels,(-1,4)))\n",
    "\n",
    "plt.imshow(-np.reshape(test_labels,(20,1,4))[:,:,0])\n",
    "plt.show()\n",
    "y_max=max(np.max(y_train[:,0]),np.max(y_val[:,0]))  #maximum observed chirality\n",
    "y_train[:,0]=y_train[:,0]/y_max\n",
    "y_val[:,0]=y_val[:,0]/y_max\n",
    "y_test[:,0]=y_test[:,0]/y_max\n",
    "print(y_max)\n",
    "print(np.amax(y_train,axis=0),np.amax(y_val,axis=0),np.amax(y_test,axis=0))\n",
    "print(np.shape(y_train),np.shape(x_train))"
   ]
  },
  {
   "cell_type": "code",
   "execution_count": 9,
   "metadata": {},
   "outputs": [],
   "source": [
    "model = Sequential()\n",
    "\n",
    "model.add(Conv2D(filters = 16, kernel_size = (6, 6), activation='relu', input_shape = (24, 24, 3)))\n",
    "model.add(BatchNormalization())\n",
    "#model.add(Conv2D(filters = 16, kernel_size = (3, 3), activation='relu'))\n",
    "#model.add(BatchNormalization())\n",
    "#model.add(Conv2D(filters = 16, kernel_size = (3, 3), activation='relu'))\n",
    "#model.add(BatchNormalization())\n",
    "model.add(MaxPool2D(strides=(2,2)))\n",
    "model.add(Dropout(0.25))\n",
    "\n",
    "model.add(Conv2D(filters = 32, kernel_size = (3, 3), activation='relu'))\n",
    "model.add(BatchNormalization())\n",
    "#model.add(Conv2D(filters = 32, kernel_size = (3, 3), activation='relu'))\n",
    "#model.add(BatchNormalization())\n",
    "#model.add(Conv2D(filters = 32, kernel_size = (3, 3), activation='relu'))\n",
    "#model.add(BatchNormalization())\n",
    "model.add(MaxPool2D(strides=(2,2)))\n",
    "model.add(Dropout(0.25))\n",
    "\n",
    "model.add(Flatten())\n",
    "model.add(Dense(512, activation='linear'))\n",
    "model.add(LeakyReLU(alpha=.1))\n",
    "model.add(Dropout(0.25))\n",
    "\n",
    "model.add(Dense(1024, activation='linear'))\n",
    "model.add(LeakyReLU(alpha=.1))\n",
    "model.add(Dropout(0.5))\n",
    "\n",
    "model.add(Dense(4, activation='sigmoid'))"
   ]
  },
  {
   "cell_type": "code",
   "execution_count": 10,
   "metadata": {},
   "outputs": [],
   "source": [
    "model.compile(loss='mean_squared_error', optimizer = Adam(lr=1e-4))#, metrics=[\"accuracy\"]) #binary_crossentropy"
   ]
  },
  {
   "cell_type": "code",
   "execution_count": 11,
   "metadata": {},
   "outputs": [],
   "source": [
    "annealer = LearningRateScheduler(lambda x: 1e-3 * 0.9 ** x)"
   ]
  },
  {
   "cell_type": "code",
   "execution_count": 12,
   "metadata": {},
   "outputs": [
    {
     "name": "stdout",
     "output_type": "stream",
     "text": [
      "Train on 64000 samples, validate on 16000 samples\n",
      "Epoch 1/10\n",
      " - 182s - loss: 0.0218 - val_loss: 0.0077\n",
      "Epoch 2/10\n",
      " - 141s - loss: 0.0051 - val_loss: 0.0060\n",
      "Epoch 3/10\n",
      " - 115s - loss: 0.0043 - val_loss: 0.0074\n",
      "Epoch 4/10\n",
      " - 114s - loss: 0.0040 - val_loss: 0.0052\n",
      "Epoch 5/10\n",
      " - 8094s - loss: 0.0037 - val_loss: 0.0034\n",
      "Epoch 6/10\n",
      " - 73s - loss: 0.0036 - val_loss: 0.0038\n",
      "Epoch 7/10\n",
      " - 67s - loss: 0.0034 - val_loss: 0.0029\n",
      "Epoch 8/10\n",
      " - 65s - loss: 0.0033 - val_loss: 0.0031\n",
      "Epoch 9/10\n",
      " - 63s - loss: 0.0033 - val_loss: 0.0029\n",
      "Epoch 10/10\n",
      " - 64s - loss: 0.0032 - val_loss: 0.0028\n"
     ]
    }
   ],
   "source": [
    "hist = model.fit(x=x_train, y=y_train, batch_size=512,\n",
    "                           epochs=10, #Increase this when not on Kaggle kernel\n",
    "                           verbose=2,  #1 for ETA, 0 for silent\n",
    "                           validation_data=(x_val, y_val), #For speed\n",
    "                           callbacks=[annealer])"
   ]
  },
  {
   "cell_type": "code",
   "execution_count": 13,
   "metadata": {},
   "outputs": [
    {
     "data": {
      "image/png": "[encoded data removed]",
      "text/plain": [
       "<Figure size 432x288 with 1 Axes>"
      ]
     },
     "metadata": {
      "needs_background": "light"
     },
     "output_type": "display_data"
    }
   ],
   "source": [
    "plt.plot(hist.history['loss'], color='b')\n",
    "plt.plot(hist.history['val_loss'], color='r')\n",
    "plt.show()"
   ]
  },
  {
   "cell_type": "code",
   "execution_count": 14,
   "metadata": {},
   "outputs": [],
   "source": [
    "y_hat = model.predict(x_val)"
   ]
  },
  {
   "cell_type": "code",
   "execution_count": 15,
   "metadata": {},
   "outputs": [
    {
     "data": {
      "text/plain": [
       "array([0.06600364, 0.0400965 , 0.05355139, 0.04924173], dtype=float32)"
      ]
     },
     "execution_count": 15,
     "metadata": {},
     "output_type": "execute_result"
    }
   ],
   "source": [
    "(np.sum((y_val-y_hat)**2,axis=0)/(20*20*40))**0.5"
   ]
  },
  {
   "cell_type": "code",
   "execution_count": 16,
   "metadata": {},
   "outputs": [
    {
     "data": {
      "image/png": "[encoded data removed]",
      "text/plain": [
       "<Figure size 432x288 with 1 Axes>"
      ]
     },
     "metadata": {
      "needs_background": "light"
     },
     "output_type": "display_data"
    },
    {
     "data": {
      "image/png": "[encoded data removed]",
      "text/plain": [
       "<Figure size 432x288 with 1 Axes>"
      ]
     },
     "metadata": {
      "needs_background": "light"
     },
     "output_type": "display_data"
    },
    {
     "data": {
      "image/png": "[encoded data removed]",
      "text/plain": [
       "<Figure size 432x288 with 1 Axes>"
      ]
     },
     "metadata": {
      "needs_background": "light"
     },
     "output_type": "display_data"
    },
    {
     "data": {
      "image/png": "[encoded data removed]",
      "text/plain": [
       "<Figure size 432x288 with 1 Axes>"
      ]
     },
     "metadata": {
      "needs_background": "light"
     },
     "output_type": "display_data"
    },
    {
     "data": {
      "image/png": "[encoded data removed]",
      "text/plain": [
       "<Figure size 432x288 with 1 Axes>"
      ]
     },
     "metadata": {
      "needs_background": "light"
     },
     "output_type": "display_data"
    },
    {
     "data": {
      "image/png": "[encoded data removed]",
      "text/plain": [
       "<Figure size 432x288 with 1 Axes>"
      ]
     },
     "metadata": {
      "needs_background": "light"
     },
     "output_type": "display_data"
    },
    {
     "data": {
      "image/png": "[encoded data removed]",
      "text/plain": [
       "<Figure size 432x288 with 1 Axes>"
      ]
     },
     "metadata": {
      "needs_background": "light"
     },
     "output_type": "display_data"
    },
    {
     "data": {
      "image/png": "[encoded data removed]",
      "text/plain": [
       "<Figure size 432x288 with 1 Axes>"
      ]
     },
     "metadata": {
      "needs_background": "light"
     },
     "output_type": "display_data"
    },
    {
     "name": "stdout",
     "output_type": "stream",
     "text": [
      "(20, 20, 40, 4)\n"
     ]
    }
   ],
   "source": [
    "y_val=np.reshape(y_val,(20,20,40,4))\n",
    "y_hat=np.reshape(y_hat,(20,20,40,4))\n",
    "\n",
    "plt.imshow(y_val[:,:,20,0])\n",
    "plt.show()\n",
    "plt.imshow(y_hat[:,:,20,0])\n",
    "plt.show()\n",
    "\n",
    "plt.imshow(y_val[:,:,20,1])\n",
    "plt.show()\n",
    "plt.imshow(y_hat[:,:,20,1])\n",
    "plt.show()\n",
    "\n",
    "plt.imshow(y_val[:,:,20,2])\n",
    "plt.show()\n",
    "plt.imshow(y_hat[:,:,20,2])\n",
    "plt.show()\n",
    "\n",
    "plt.imshow(y_val[:,:,20,3])\n",
    "plt.show()\n",
    "plt.imshow(y_hat[:,:,20,3])\n",
    "plt.show()\n",
    "\n",
    "print(np.shape(y_hat))"
   ]
  },
  {
   "cell_type": "code",
   "execution_count": 17,
   "metadata": {},
   "outputs": [],
   "source": [
    "y_hat = model.predict(x_test)"
   ]
  },
  {
   "cell_type": "code",
   "execution_count": 18,
   "metadata": {},
   "outputs": [
    {
     "name": "stdout",
     "output_type": "stream",
     "text": [
      "[-0.06823872  0.02223847  0.063616   -0.93041503]\n",
      "[0.12542728 0.03903974 0.08938033 0.9307397 ]\n"
     ]
    }
   ],
   "source": [
    "#Error Analysis\n",
    "y_hat=np.reshape(y_hat,(-1,4))\n",
    "y_test=np.reshape(y_test,(-1,4))\n",
    "n=np.shape(y_test)[0]\n",
    "\n",
    "print(np.mean(y_hat-y_test,axis=0))\n",
    "\n",
    "print((np.sum((y_hat-y_test)**2,axis=0)/(n))**0.5)"
   ]
  },
  {
   "cell_type": "code",
   "execution_count": 19,
   "metadata": {},
   "outputs": [
    {
     "data": {
      "image/png": "[encoded data removed]",
      "text/plain": [
       "<Figure size 432x288 with 1 Axes>"
      ]
     },
     "metadata": {
      "needs_background": "light"
     },
     "output_type": "display_data"
    },
    {
     "data": {
      "image/png": "[encoded data removed]",
      "text/plain": [
       "<Figure size 432x288 with 1 Axes>"
      ]
     },
     "metadata": {
      "needs_background": "light"
     },
     "output_type": "display_data"
    },
    {
     "data": {
      "image/png": "[encoded data removed]",
      "text/plain": [
       "<Figure size 432x288 with 1 Axes>"
      ]
     },
     "metadata": {
      "needs_background": "light"
     },
     "output_type": "display_data"
    },
    {
     "data": {
      "image/png": "[encoded data removed]",
      "text/plain": [
       "<Figure size 432x288 with 1 Axes>"
      ]
     },
     "metadata": {
      "needs_background": "light"
     },
     "output_type": "display_data"
    }
   ],
   "source": [
    "for i in range(4):\n",
    "    plt.show(plt.scatter(y_hat[:,i],y_test[:,i]))"
   ]
  },
  {
   "cell_type": "code",
   "execution_count": 20,
   "metadata": {},
   "outputs": [
    {
     "data": {
      "text/plain": [
       "0.21113044109300755"
      ]
     },
     "execution_count": 20,
     "metadata": {},
     "output_type": "execute_result"
    }
   ],
   "source": [
    "(np.sum(np.sum((y_test-y_hat)**2,axis=0),axis=0)/(20*20))**0.5"
   ]
  },
  {
   "cell_type": "code",
   "execution_count": 21,
   "metadata": {},
   "outputs": [],
   "source": [
    "y_test=np.reshape(y_test,(20,4))\n",
    "y_hat=np.reshape(y_hat,(20,4))"
   ]
  },
  {
   "cell_type": "code",
   "execution_count": 22,
   "metadata": {},
   "outputs": [
    {
     "data": {
      "text/plain": [
       "\"x=np.arange(0,4,4/20)\\nplt.plot(x,y_test[:,19,0],'r')\\nplt.scatter(x,y_hat[:,19,0])\\nplt.show()\\n\\nplt.plot(x,y_test[:,19,1],'r')\\nplt.scatter(x,y_hat[:,19,1])\\nplt.show()\\n\\nplt.plot(x,4*y_test[:,19,2],'r')\\nplt.plot(x,3.6*np.ones(20),'g')\\nplt.scatter(x,4*y_hat[:,19,2])\\nplt.show()\\n\\nx=np.arange(2,0,-0.1)\\nplt.plot(x,2*y_test[0,:,3],'r')\\nplt.plot(x,1.8*np.ones(20),'g')\\nplt.scatter(x,2*y_hat[0,:,3])\\nplt.show()\\n\""
      ]
     },
     "execution_count": 22,
     "metadata": {},
     "output_type": "execute_result"
    }
   ],
   "source": [
    "'''x=np.arange(0,4,4/20)\n",
    "plt.plot(x,y_test[:,19,0],'r')\n",
    "plt.scatter(x,y_hat[:,19,0])\n",
    "plt.show()\n",
    "\n",
    "plt.plot(x,y_test[:,19,1],'r')\n",
    "plt.scatter(x,y_hat[:,19,1])\n",
    "plt.show()\n",
    "\n",
    "plt.plot(x,4*y_test[:,19,2],'r')\n",
    "plt.plot(x,3.6*np.ones(20),'g')\n",
    "plt.scatter(x,4*y_hat[:,19,2])\n",
    "plt.show()\n",
    "\n",
    "x=np.arange(2,0,-0.1)\n",
    "plt.plot(x,2*y_test[0,:,3],'r')\n",
    "plt.plot(x,1.8*np.ones(20),'g')\n",
    "plt.scatter(x,2*y_hat[0,:,3])\n",
    "plt.show()\n",
    "'''"
   ]
  },
  {
   "cell_type": "code",
   "execution_count": 25,
   "metadata": {},
   "outputs": [
    {
     "data": {
      "text/plain": [
       "\"from scipy.optimize import curve_fit\\n\\ndef func(x,a):\\n    return x*a\\n\\nkey=15\\n\\ny=4*np.array(y_hat[:key,19,2])\\nx=np.arange(0,1,1/20)[:key]\\na, err = curve_fit(func,x,y)\\nprint(a, err)\\nprint(((np.sum((a*x-y)**2)/key)**0.5)/4)\\n\\nplt.plot(x,a*x,'r--')\\n#plt.scatter(x,a*x+0.8*(np.random.rand(key)-0.5))\\nplt.scatter(x,y)\\nplt.show()\\n\""
      ]
     },
     "execution_count": 25,
     "metadata": {},
     "output_type": "execute_result"
    }
   ],
   "source": [
    "'''from scipy.optimize import curve_fit\n",
    "\n",
    "def func(x,a):\n",
    "    return x*a\n",
    "\n",
    "key=15\n",
    "\n",
    "y=4*np.array(y_hat[:key,19,2])\n",
    "x=np.arange(0,1,1/20)[:key]\n",
    "a, err = curve_fit(func,x,y)\n",
    "print(a, err)\n",
    "print(((np.sum((a*x-y)**2)/key)**0.5)/4)\n",
    "\n",
    "plt.plot(x,a*x,'r--')\n",
    "#plt.scatter(x,a*x+0.8*(np.random.rand(key)-0.5))\n",
    "plt.scatter(x,y)\n",
    "plt.show()\n",
    "'''"
   ]
  },
  {
   "cell_type": "code",
   "execution_count": 37,
   "metadata": {},
   "outputs": [
    {
     "data": {
      "text/plain": [
       "\"key=7\\n\\ny=2*np.array(y_hat[0,20-key:,3])\\nx=np.arange(2,0,-0.1)[20-key:]    \\na, err = curve_fit(func,x,y)\\nprint(a, err)\\nprint(((np.sum((a*x-y)**2)/key)**0.5)/2)\\n\\nplt.plot(x,a*x,'r--')\\nplt.scatter(x,y)\\nplt.show()\""
      ]
     },
     "execution_count": 37,
     "metadata": {},
     "output_type": "execute_result"
    }
   ],
   "source": [
    "'''key=7\n",
    "\n",
    "y=2*np.array(y_hat[0,20-key:,3])\n",
    "x=np.arange(2,0,-0.1)[20-key:]    \n",
    "a, err = curve_fit(func,x,y)\n",
    "print(a, err)\n",
    "print(((np.sum((a*x-y)**2)/key)**0.5)/2)\n",
    "\n",
    "plt.plot(x,a*x,'r--')\n",
    "plt.scatter(x,y)\n",
    "plt.show()'''"
   ]
  },
  {
   "cell_type": "code",
   "execution_count": 38,
   "metadata": {},
   "outputs": [
    {
     "data": {
      "text/plain": [
       "'def fn(x,a):\\n    return x*a\\n\\nx=np.log([1,2,3,4])\\ny=np.log([0.988, 1.838, 2.268, 2.604])\\na, err=curve_fit(fn,x,y)\\nprint(a,err)\\nplt.plot(x,x*a)\\nplt.scatter(x,y)\\nplt.show()\\n\\nx=np.log([1,2,3,4])\\ny=np.log([0.988, 6.06, 12.92, 22.44])\\na, err=curve_fit(fn,x,y)\\nprint(a,err)\\nplt.plot(x,x*a)\\nplt.scatter(x,y)\\nplt.show()'"
      ]
     },
     "execution_count": 38,
     "metadata": {},
     "output_type": "execute_result"
    }
   ],
   "source": [
    "'''def fn(x,a):\n",
    "    return x*a\n",
    "\n",
    "x=np.log([1,2,3,4])\n",
    "y=np.log([0.988, 1.838, 2.268, 2.604])\n",
    "a, err=curve_fit(fn,x,y)\n",
    "print(a,err)\n",
    "plt.plot(x,x*a)\n",
    "plt.scatter(x,y)\n",
    "plt.show()\n",
    "\n",
    "x=np.log([1,2,3,4])\n",
    "y=np.log([0.988, 6.06, 12.92, 22.44])\n",
    "a, err=curve_fit(fn,x,y)\n",
    "print(a,err)\n",
    "plt.plot(x,x*a)\n",
    "plt.scatter(x,y)\n",
    "plt.show()'''"
   ]
  },
  {
   "cell_type": "code",
   "execution_count": 28,
   "metadata": {},
   "outputs": [],
   "source": [
    "W=model.get_weights()"
   ]
  },
  {
   "cell_type": "code",
   "execution_count": 29,
   "metadata": {
    "scrolled": true
   },
   "outputs": [
    {
     "name": "stdout",
     "output_type": "stream",
     "text": [
      "{'name': 'conv2d_1', 'trainable': True, 'batch_input_shape': (None, 24, 24, 3), 'dtype': 'float32', 'filters': 16, 'kernel_size': (6, 6), 'strides': (1, 1), 'padding': 'valid', 'data_format': 'channels_last', 'dilation_rate': (1, 1), 'activation': 'relu', 'use_bias': True, 'kernel_initializer': {'class_name': 'VarianceScaling', 'config': {'scale': 1.0, 'mode': 'fan_avg', 'distribution': 'uniform', 'seed': None}}, 'bias_initializer': {'class_name': 'Zeros', 'config': {}}, 'kernel_regularizer': None, 'bias_regularizer': None, 'activity_regularizer': None, 'kernel_constraint': None, 'bias_constraint': None}\n",
      "(2,)\n",
      "{'name': 'batch_normalization_1', 'trainable': True, 'axis': -1, 'momentum': 0.99, 'epsilon': 0.001, 'center': True, 'scale': True, 'beta_initializer': {'class_name': 'Zeros', 'config': {}}, 'gamma_initializer': {'class_name': 'Ones', 'config': {}}, 'moving_mean_initializer': {'class_name': 'Zeros', 'config': {}}, 'moving_variance_initializer': {'class_name': 'Ones', 'config': {}}, 'beta_regularizer': None, 'gamma_regularizer': None, 'beta_constraint': None, 'gamma_constraint': None}\n",
      "(4, 16)\n",
      "{'name': 'max_pooling2d_1', 'trainable': True, 'pool_size': (2, 2), 'padding': 'valid', 'strides': (2, 2), 'data_format': 'channels_last'}\n",
      "(0,)\n",
      "{'name': 'dropout_1', 'trainable': True, 'rate': 0.25, 'noise_shape': None, 'seed': None}\n",
      "(0,)\n",
      "{'name': 'conv2d_2', 'trainable': True, 'filters': 32, 'kernel_size': (3, 3), 'strides': (1, 1), 'padding': 'valid', 'data_format': 'channels_last', 'dilation_rate': (1, 1), 'activation': 'relu', 'use_bias': True, 'kernel_initializer': {'class_name': 'VarianceScaling', 'config': {'scale': 1.0, 'mode': 'fan_avg', 'distribution': 'uniform', 'seed': None}}, 'bias_initializer': {'class_name': 'Zeros', 'config': {}}, 'kernel_regularizer': None, 'bias_regularizer': None, 'activity_regularizer': None, 'kernel_constraint': None, 'bias_constraint': None}\n",
      "(2,)\n",
      "{'name': 'batch_normalization_2', 'trainable': True, 'axis': -1, 'momentum': 0.99, 'epsilon': 0.001, 'center': True, 'scale': True, 'beta_initializer': {'class_name': 'Zeros', 'config': {}}, 'gamma_initializer': {'class_name': 'Ones', 'config': {}}, 'moving_mean_initializer': {'class_name': 'Zeros', 'config': {}}, 'moving_variance_initializer': {'class_name': 'Ones', 'config': {}}, 'beta_regularizer': None, 'gamma_regularizer': None, 'beta_constraint': None, 'gamma_constraint': None}\n",
      "(4, 32)\n",
      "{'name': 'max_pooling2d_2', 'trainable': True, 'pool_size': (2, 2), 'padding': 'valid', 'strides': (2, 2), 'data_format': 'channels_last'}\n",
      "(0,)\n",
      "{'name': 'dropout_2', 'trainable': True, 'rate': 0.25, 'noise_shape': None, 'seed': None}\n",
      "(0,)\n",
      "{'name': 'flatten_1', 'trainable': True, 'data_format': 'channels_last'}\n",
      "(0,)\n",
      "{'name': 'dense_1', 'trainable': True, 'units': 512, 'activation': 'linear', 'use_bias': True, 'kernel_initializer': {'class_name': 'VarianceScaling', 'config': {'scale': 1.0, 'mode': 'fan_avg', 'distribution': 'uniform', 'seed': None}}, 'bias_initializer': {'class_name': 'Zeros', 'config': {}}, 'kernel_regularizer': None, 'bias_regularizer': None, 'activity_regularizer': None, 'kernel_constraint': None, 'bias_constraint': None}\n",
      "(2,)\n",
      "{'name': 'leaky_re_lu_1', 'trainable': True, 'alpha': 0.10000000149011612}\n",
      "(0,)\n",
      "{'name': 'dropout_3', 'trainable': True, 'rate': 0.25, 'noise_shape': None, 'seed': None}\n",
      "(0,)\n",
      "{'name': 'dense_2', 'trainable': True, 'units': 1024, 'activation': 'linear', 'use_bias': True, 'kernel_initializer': {'class_name': 'VarianceScaling', 'config': {'scale': 1.0, 'mode': 'fan_avg', 'distribution': 'uniform', 'seed': None}}, 'bias_initializer': {'class_name': 'Zeros', 'config': {}}, 'kernel_regularizer': None, 'bias_regularizer': None, 'activity_regularizer': None, 'kernel_constraint': None, 'bias_constraint': None}\n",
      "(2,)\n",
      "{'name': 'leaky_re_lu_2', 'trainable': True, 'alpha': 0.10000000149011612}\n",
      "(0,)\n",
      "{'name': 'dropout_4', 'trainable': True, 'rate': 0.5, 'noise_shape': None, 'seed': None}\n",
      "(0,)\n",
      "{'name': 'dense_3', 'trainable': True, 'units': 4, 'activation': 'sigmoid', 'use_bias': True, 'kernel_initializer': {'class_name': 'VarianceScaling', 'config': {'scale': 1.0, 'mode': 'fan_avg', 'distribution': 'uniform', 'seed': None}}, 'bias_initializer': {'class_name': 'Zeros', 'config': {}}, 'kernel_regularizer': None, 'bias_regularizer': None, 'activity_regularizer': None, 'kernel_constraint': None, 'bias_constraint': None}\n",
      "(2,)\n"
     ]
    }
   ],
   "source": [
    "for layer in model.layers:\n",
    "    g=layer.get_config()\n",
    "    h=layer.get_weights()\n",
    "    print(g)\n",
    "    print(np.shape(h))"
   ]
  },
  {
   "cell_type": "code",
   "execution_count": 30,
   "metadata": {
    "scrolled": true
   },
   "outputs": [
    {
     "name": "stdout",
     "output_type": "stream",
     "text": [
      "(6, 6, 3, 16)\n",
      "(16,)\n",
      "(16,)\n",
      "(16,)\n",
      "(16,)\n",
      "(16,)\n",
      "(3, 3, 16, 32)\n",
      "(32,)\n",
      "(32,)\n",
      "(32,)\n",
      "(32,)\n",
      "(32,)\n",
      "(288, 512)\n",
      "(512,)\n",
      "(512, 1024)\n",
      "(1024,)\n",
      "(1024, 4)\n",
      "(4,)\n"
     ]
    }
   ],
   "source": [
    "for i in range(18):\n",
    "    print(np.shape(W[i]))"
   ]
  },
  {
   "cell_type": "code",
   "execution_count": 31,
   "metadata": {},
   "outputs": [
    {
     "data": {
      "image/png": "[encoded data removed]",
      "text/plain": [
       "<Figure size 432x288 with 1 Axes>"
      ]
     },
     "metadata": {
      "needs_background": "light"
     },
     "output_type": "display_data"
    },
    {
     "data": {
      "image/png": "[encoded data removed]",
      "text/plain": [
       "<Figure size 432x288 with 1 Axes>"
      ]
     },
     "metadata": {
      "needs_background": "light"
     },
     "output_type": "display_data"
    },
    {
     "data": {
      "image/png": "[encoded data removed]",
      "text/plain": [
       "<Figure size 432x288 with 1 Axes>"
      ]
     },
     "metadata": {
      "needs_background": "light"
     },
     "output_type": "display_data"
    }
   ],
   "source": [
    "for i in range(3):\n",
    "    plt.imshow(W[0][:,:,i,0])\n",
    "    plt.show()"
   ]
  },
  {
   "cell_type": "code",
   "execution_count": 32,
   "metadata": {},
   "outputs": [],
   "source": [
    "np.savetxt('Weight.csv',np.reshape(W[0],(1,-1)),delimiter=',')"
   ]
  },
  {
   "cell_type": "code",
   "execution_count": 33,
   "metadata": {},
   "outputs": [],
   "source": [
    "from keras import backend as K\n",
    "\n",
    "inp = model.input                                           # input placeholder\n",
    "outputs = [layer.output for layer in model.layers]          # all layer outputs\n",
    "functors = [K.function([inp, K.learning_phase()], [out]) for out in outputs]    # evaluation functions"
   ]
  },
  {
   "cell_type": "code",
   "execution_count": 34,
   "metadata": {},
   "outputs": [
    {
     "name": "stdout",
     "output_type": "stream",
     "text": [
      "Tensor(\"batch_normalization_1/keras_learning_phase:0\", shape=(), dtype=bool)\n",
      "Tensor(\"conv2d_1/Relu:0\", shape=(?, 19, 19, 16), dtype=float32)\n",
      "Tensor(\"batch_normalization_1/cond/Merge:0\", shape=(?, 19, 19, 16), dtype=float32)\n",
      "Tensor(\"max_pooling2d_1/MaxPool:0\", shape=(?, 9, 9, 16), dtype=float32)\n",
      "Tensor(\"dropout_1/cond/Merge:0\", shape=(?, 9, 9, 16), dtype=float32)\n",
      "Tensor(\"conv2d_2/Relu:0\", shape=(?, 7, 7, 32), dtype=float32)\n",
      "Tensor(\"batch_normalization_2/cond/Merge:0\", shape=(?, 7, 7, 32), dtype=float32)\n",
      "Tensor(\"max_pooling2d_2/MaxPool:0\", shape=(?, 3, 3, 32), dtype=float32)\n",
      "Tensor(\"dropout_2/cond/Merge:0\", shape=(?, 3, 3, 32), dtype=float32)\n",
      "Tensor(\"flatten_1/Reshape:0\", shape=(?, ?), dtype=float32)\n",
      "Tensor(\"dense_1/BiasAdd:0\", shape=(?, 512), dtype=float32)\n",
      "Tensor(\"leaky_re_lu_1/LeakyRelu:0\", shape=(?, 512), dtype=float32)\n",
      "Tensor(\"dropout_3/cond/Merge:0\", shape=(?, 512), dtype=float32)\n",
      "Tensor(\"dense_2/BiasAdd:0\", shape=(?, 1024), dtype=float32)\n",
      "Tensor(\"leaky_re_lu_2/LeakyRelu:0\", shape=(?, 1024), dtype=float32)\n",
      "Tensor(\"dropout_4/cond/Merge:0\", shape=(?, 1024), dtype=float32)\n",
      "Tensor(\"dense_3/Sigmoid:0\", shape=(?, 4), dtype=float32)\n"
     ]
    }
   ],
   "source": [
    "print(K.learning_phase())\n",
    "for i in range(16):\n",
    "    print(outputs[i])"
   ]
  },
  {
   "cell_type": "code",
   "execution_count": 43,
   "metadata": {},
   "outputs": [],
   "source": [
    "# Testing\n",
    "test = x_test[0,:,:,:][np.newaxis,...]\n",
    "#test=np.random.rand(1,24,24,3)\n",
    "layer_outs = [func([test, 0]) for func in functors]\n",
    "#print(layer_outs)"
   ]
  },
  {
   "cell_type": "code",
   "execution_count": 44,
   "metadata": {},
   "outputs": [
    {
     "name": "stdout",
     "output_type": "stream",
     "text": [
      "(1, 1, 19, 19, 16)\n",
      "(1, 1, 19, 19, 16)\n",
      "(1, 1, 9, 9, 16)\n",
      "(1, 1, 9, 9, 16)\n",
      "(1, 1, 7, 7, 32)\n",
      "(1, 1, 7, 7, 32)\n",
      "(1, 1, 3, 3, 32)\n",
      "(1, 1, 3, 3, 32)\n",
      "(1, 1, 288)\n",
      "(1, 1, 512)\n",
      "(1, 1, 512)\n",
      "(1, 1, 512)\n",
      "(1, 1, 1024)\n",
      "(1, 1, 1024)\n",
      "(1, 1, 1024)\n",
      "(1, 1, 4)\n"
     ]
    }
   ],
   "source": [
    "for i in range(16):\n",
    "    print(np.shape(layer_outs[i]))\n",
    "    \n",
    "np.savetxt(\"Out_SP0.csv\",np.reshape(test[0,:,:,:],-1),delimiter=',')\n",
    "np.savetxt(\"Out_SP1.csv\",np.reshape(layer_outs[1],-1),delimiter=',')\n",
    "np.savetxt(\"Out_SP2.csv\",np.reshape(layer_outs[5],-1),delimiter=',')\n",
    "np.savetxt(\"Out_SP3.csv\",np.reshape(layer_outs[8],-1),delimiter=',')\n",
    "np.savetxt(\"Out_SP4.csv\",np.reshape(layer_outs[11],-1),delimiter=',')\n",
    "np.savetxt(\"Out_SP5.csv\",np.reshape(layer_outs[14],-1),delimiter=',')"
   ]
  },
  {
   "cell_type": "code",
   "execution_count": null,
   "metadata": {},
   "outputs": [],
   "source": [
    "print(np.shape(test))\n",
    "plt.imshow(test[0,:,:,2])\n",
    "plt.show()\n",
    "for i in range(8):\n",
    "    print(np.shape(layer_outs[i]), np.sum(np.array(layer_outs[i])[0,0,:,:,0]))\n",
    "    plt.imshow(np.array(layer_outs[i])[0,0,:,:,0])\n",
    "    plt.show()\n",
    "    \n"
   ]
  },
  {
   "cell_type": "code",
   "execution_count": null,
   "metadata": {
    "scrolled": true
   },
   "outputs": [],
   "source": [
    "for i in range(8,15):\n",
    "    plt.plot(np.sort(np.array(layer_outs[i])[0,0,:]))\n",
    "    plt.show()\n",
    "print(np.array(layer_outs[15])[0,0,:])"
   ]
  },
  {
   "cell_type": "code",
   "execution_count": null,
   "metadata": {},
   "outputs": [],
   "source": [
    "print(K.learning_phase())"
   ]
  },
  {
   "cell_type": "code",
   "execution_count": null,
   "metadata": {},
   "outputs": [],
   "source": []
  },
  {
   "cell_type": "code",
   "execution_count": null,
   "metadata": {},
   "outputs": [],
   "source": []
  },
  {
   "cell_type": "code",
   "execution_count": null,
   "metadata": {},
   "outputs": [],
   "source": []
  },
  {
   "cell_type": "code",
   "execution_count": null,
   "metadata": {},
   "outputs": [],
   "source": []
  },
  {
   "cell_type": "code",
   "execution_count": null,
   "metadata": {},
   "outputs": [],
   "source": []
  }
 ],
 "metadata": {
  "kernelspec": {
   "display_name": "Python (tensorflow)",
   "language": "python",
   "name": "tensorflow"
  },
  "language_info": {
   "codemirror_mode": {
    "name": "ipython",
    "version": 3
   },
   "file_extension": ".py",
   "mimetype": "text/x-python",
   "name": "python",
   "nbconvert_exporter": "python",
   "pygments_lexer": "ipython3",
   "version": "3.6.7"
  }
 },
 "nbformat": 4,
 "nbformat_minor": 2
}
